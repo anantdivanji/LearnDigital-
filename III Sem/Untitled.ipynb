{
 "cells": [
  {
   "cell_type": "code",
   "execution_count": 1,
   "id": "697d5bd9-ee62-462a-92a1-a85b5f5476bf",
   "metadata": {},
   "outputs": [],
   "source": [
    "import pandas as pd\n",
    "import numpy as np"
   ]
  },
  {
   "cell_type": "markdown",
   "id": "73fc8ec2-03af-40bf-b6fe-6a8f06c5f31c",
   "metadata": {},
   "source": [
    "Q1. Write a NumPy program to print the NumPy version on your system.  \n",
    "\r\n",
    "Q2. Write a NumPy program to convert a list of numeric values into a one-dimensional NumPy array \n",
    ".\r\n",
    "Expected Outpu    t:\r\n",
    "Original List: [12.23, 13.32, 100, 36.   32]\r\n",
    "One-dimensional NumPy array: array([ 12.23 13.32 100. 36.      \n",
    "32])\r\n",
    "Q3. Write a NumPy program to convert an array to a floating   type.\r\n",
    "Sample output:\r\n",
    "Original array\r\n",
    "[1, 2, 3, 4]\r\n",
    "Array converted to a float type:\r\n",
    "[ 1. 2. 3. 4.]"
   ]
  },
  {
   "cell_type": "markdown",
   "id": "6bc9767e-35ab-4f26-a149-0f24b1af427e",
   "metadata": {},
   "source": [
    "        Q4. Write a NumPy program to create a null vector of size 10 and update the sixth value to 11.\n",
    "[ 0. 0. 0. 0. 0. 0. 0. 0. 0. 0.]\n",
    "Update sixth value to 11\n",
    "[ 0. 0. 0. 0. 0. 0. 11. 0. 0. 0.]\n",
    "Q5. Write a NumPy program to create an array with values ranging from 12 to 38.\n",
    "Expected Output:\n",
    "[12 13 14 15 16 17 18 19 20 21 22 23 24 25 26 27 28 29 30 31 32 33 34 35 36 37]"
   ]
  },
  {
   "cell_type": "markdown",
   "id": "130008eb-a9b3-4821-be2e-d949c0d8b25d",
   "metadata": {},
   "source": [
    "Q.6. An ndarray X contains the following data:\n",
    "[[0 1 2 3]\n",
    "[4 5 6 7]\n",
    "[8 9 10 11]\n",
    "[12 13 14 15]]\n",
    "What will be returned by the statements:\n",
    "i) print(X[0:2,0:2]\n",
    "ii) print(X[2:0,2:0]\n",
    "iii) print(X[2:0:-1,2:0:-1])\n",
    "Q.7. Given the following ndarray Ary1 [[1 2 3],\n",
    "[4 5 6],\n",
    "[7 8 9]]\n",
    "Write array slices to print:\n",
    "a) Hoizontal rows separately\n",
    "b) Veritcal columns separately\n",
    "Q.8. Consider the two arrays: ar1=[[0 1 2],\n",
    "[3 4 5],\n",
    "[6 7 8]]\n",
    "ar2=[[10 11 12]\n",
    "[13 14 15]\n",
    "[16 17 18]]\n",
    "i) Write command to concatenate ar1 and ar2- i) rowwise and ii) columnwise\n",
    "ii) What be the resultant array if the follwing statement is given?\n",
    "np.hstack([ar1,ar2])\n",
    "Q.9. Given a list L=[3,4,5] and an nd"
   ]
  },
  {
   "cell_type": "code",
   "execution_count": 4,
   "id": "eb63cc7a-46d9-4601-ae38-e36f11404a02",
   "metadata": {},
   "outputs": [
    {
     "name": "stdout",
     "output_type": "stream",
     "text": [
      "[[1, 2, 3], [4, 5, 6], [7, 8, 9]]\n"
     ]
    }
   ],
   "source": [
    "x=[[1 ,2, 3],\n",
    "   [4 ,5 ,6],\n",
    "   [7, 8 ,9]]\n",
    "print(x)\n"
   ]
  },
  {
   "cell_type": "code",
   "execution_count": 9,
   "id": "e7aa3912-8870-4aa6-b5d8-fde6c9fc33da",
   "metadata": {},
   "outputs": [
    {
     "name": "stdout",
     "output_type": "stream",
     "text": [
      "[[1, 2, 3]]\n"
     ]
    }
   ],
   "source": [
    "print(x[0:1])"
   ]
  },
  {
   "cell_type": "code",
   "execution_count": 11,
   "id": "cc0a591d-ea96-4b9e-8c8f-5cfdf184aa3c",
   "metadata": {},
   "outputs": [
    {
     "name": "stdout",
     "output_type": "stream",
     "text": [
      "[[4, 5, 6]]\n"
     ]
    }
   ],
   "source": [
    "print(x[1:2])"
   ]
  },
  {
   "cell_type": "code",
   "execution_count": 12,
   "id": "f87b64d7-8eff-4b86-9776-2d9703eb6cbe",
   "metadata": {},
   "outputs": [
    {
     "name": "stdout",
     "output_type": "stream",
     "text": [
      "[[7, 8, 9]]\n"
     ]
    }
   ],
   "source": [
    "print(x[2:3])"
   ]
  },
  {
   "cell_type": "code",
   "execution_count": 19,
   "id": "64d50a0e-989a-4bc8-9de8-d1b2d8e173f0",
   "metadata": {},
   "outputs": [
    {
     "ename": "TypeError",
     "evalue": "list indices must be integers or slices, not tuple",
     "output_type": "error",
     "traceback": [
      "\u001b[1;31m---------------------------------------------------------------------------\u001b[0m",
      "\u001b[1;31mTypeError\u001b[0m                                 Traceback (most recent call last)",
      "Cell \u001b[1;32mIn[19], line 1\u001b[0m\n\u001b[1;32m----> 1\u001b[0m \u001b[38;5;28mprint\u001b[39m(\u001b[43mx\u001b[49m\u001b[43m[\u001b[49m\u001b[43m:\u001b[49m\u001b[43m \u001b[49m\u001b[43m,\u001b[49m\u001b[38;5;241;43m1\u001b[39;49m\u001b[43m]\u001b[49m)\n",
      "\u001b[1;31mTypeError\u001b[0m: list indices must be integers or slices, not tuple"
     ]
    }
   ],
   "source": [
    "print(x[: ,1])"
   ]
  },
  {
   "cell_type": "code",
   "execution_count": 20,
   "id": "36006841-66cb-4258-aeab-74d5b47a59ee",
   "metadata": {},
   "outputs": [
    {
     "name": "stdout",
     "output_type": "stream",
     "text": [
      "[[1, 2, 3], [4, 5, 6], [7, 8, 9]]\n"
     ]
    }
   ],
   "source": [
    "print(x)"
   ]
  },
  {
   "cell_type": "code",
   "execution_count": 26,
   "id": "a69911ad-6a55-4f4c-aac6-e11b77756791",
   "metadata": {},
   "outputs": [
    {
     "data": {
      "text/plain": [
       "list"
      ]
     },
     "execution_count": 26,
     "metadata": {},
     "output_type": "execute_result"
    }
   ],
   "source": [
    "type(x)"
   ]
  },
  {
   "cell_type": "code",
   "execution_count": 27,
   "id": "38939f50-53e5-4c79-bc38-83be9c05037b",
   "metadata": {},
   "outputs": [
    {
     "data": {
      "text/plain": [
       "array([[1, 2, 3],\n",
       "       [4, 5, 6],\n",
       "       [7, 8, 9]])"
      ]
     },
     "execution_count": 27,
     "metadata": {},
     "output_type": "execute_result"
    }
   ],
   "source": [
    "import numpy as np\n",
    "l1=np.array(x)\n",
    "l1"
   ]
  },
  {
   "cell_type": "code",
   "execution_count": 29,
   "id": "f8326727-a605-438b-907d-3160531f810a",
   "metadata": {},
   "outputs": [
    {
     "data": {
      "text/plain": [
       "[array([[1, 2, 3]]), array([[4, 5, 6]]), array([[7, 8, 9]])]"
      ]
     },
     "execution_count": 29,
     "metadata": {},
     "output_type": "execute_result"
    }
   ],
   "source": [
    "np.split(l1,3)"
   ]
  },
  {
   "cell_type": "code",
   "execution_count": 39,
   "id": "46731d75-06a2-470c-b9f4-448ff3550785",
   "metadata": {},
   "outputs": [
    {
     "data": {
      "text/plain": [
       "[array([[1],\n",
       "        [4],\n",
       "        [7]]),\n",
       " array([[2],\n",
       "        [5],\n",
       "        [8]]),\n",
       " array([[3],\n",
       "        [6],\n",
       "        [9]])]"
      ]
     },
     "execution_count": 39,
     "metadata": {},
     "output_type": "execute_result"
    }
   ],
   "source": [
    "np.hsplit(l1,3)"
   ]
  },
  {
   "cell_type": "markdown",
   "id": "e18ca540-b193-4bbf-80cd-65eb6a7028da",
   "metadata": {},
   "source": [
    "### "
   ]
  },
  {
   "cell_type": "code",
   "execution_count": 41,
   "id": "5bb8a30b-546c-4eaa-ba70-028f4b1d21b6",
   "metadata": {},
   "outputs": [
    {
     "name": "stdout",
     "output_type": "stream",
     "text": [
      "[[0, 1, 2], [3, 4, 5], [6, 7, 8]]\n"
     ]
    }
   ],
   "source": [
    "ar1=[[0,1,2],\n",
    "     [3,4,5],\n",
    "     [6,7,8]]\n",
    "print(ar1)"
   ]
  },
  {
   "cell_type": "code",
   "execution_count": 43,
   "id": "2a6b7c8d-c229-4dff-a02b-6d28f2c3d40a",
   "metadata": {},
   "outputs": [
    {
     "data": {
      "text/plain": [
       "array([[0, 1, 2],\n",
       "       [3, 4, 5],\n",
       "       [6, 7, 8]])"
      ]
     },
     "execution_count": 43,
     "metadata": {},
     "output_type": "execute_result"
    }
   ],
   "source": [
    "x1=np.array(ar1)\n",
    "x1"
   ]
  },
  {
   "cell_type": "code",
   "execution_count": 44,
   "id": "b4e76f1c-ce53-4de6-98da-86ad1418462d",
   "metadata": {},
   "outputs": [
    {
     "data": {
      "text/plain": [
       "[[10, 11, 12], [13, 14, 15], [16, 17, 18]]"
      ]
     },
     "execution_count": 44,
     "metadata": {},
     "output_type": "execute_result"
    }
   ],
   "source": [
    "ar2=[[10,11,12],\n",
    "     [13,14,15],\n",
    "     [16,17,18]]\n",
    "ar2"
   ]
  },
  {
   "cell_type": "code",
   "execution_count": 45,
   "id": "bee779b0-df2f-4e55-83ed-d51d902d6552",
   "metadata": {},
   "outputs": [
    {
     "data": {
      "text/plain": [
       "array([[10, 11, 12],\n",
       "       [13, 14, 15],\n",
       "       [16, 17, 18]])"
      ]
     },
     "execution_count": 45,
     "metadata": {},
     "output_type": "execute_result"
    }
   ],
   "source": [
    "x2=np.array(ar2)\n",
    "x2"
   ]
  },
  {
   "cell_type": "code",
   "execution_count": 46,
   "id": "b01c0daa-9e99-46ad-a059-f379b7bfe4bd",
   "metadata": {},
   "outputs": [
    {
     "data": {
      "text/plain": [
       "array([[10, 12, 14],\n",
       "       [16, 18, 20],\n",
       "       [22, 24, 26]])"
      ]
     },
     "execution_count": 46,
     "metadata": {},
     "output_type": "execute_result"
    }
   ],
   "source": [
    "x3=x1+x2\n",
    "x3"
   ]
  },
  {
   "cell_type": "code",
   "execution_count": 50,
   "id": "aebd964d-4d22-4b6a-b6c0-f9cf3c583d91",
   "metadata": {},
   "outputs": [
    {
     "name": "stdout",
     "output_type": "stream",
     "text": [
      "[ 9 12 15]\n"
     ]
    }
   ],
   "source": [
    "print(np.sum(x1,axis=0))"
   ]
  },
  {
   "cell_type": "code",
   "execution_count": 52,
   "id": "8dca7935-8209-48f4-85af-c9295e98edda",
   "metadata": {},
   "outputs": [
    {
     "name": "stdout",
     "output_type": "stream",
     "text": [
      "[ 3 12 21]\n"
     ]
    }
   ],
   "source": [
    "print(np.sum(x1,axis=1))"
   ]
  },
  {
   "cell_type": "code",
   "execution_count": 55,
   "id": "acd32435-9e74-4c78-a7d0-077afa8f7438",
   "metadata": {},
   "outputs": [
    {
     "data": {
      "text/plain": [
       "array([[ 0,  1,  2, 10, 11, 12],\n",
       "       [ 3,  4,  5, 13, 14, 15],\n",
       "       [ 6,  7,  8, 16, 17, 18]])"
      ]
     },
     "execution_count": 55,
     "metadata": {},
     "output_type": "execute_result"
    }
   ],
   "source": [
    "np.hstack([x1,x2])"
   ]
  },
  {
   "cell_type": "code",
   "execution_count": 56,
   "id": "d117a1c9-3aa3-4530-a351-1464ec1427aa",
   "metadata": {},
   "outputs": [
    {
     "data": {
      "text/plain": [
       "[3, 4, 5, 3, 4, 5, 3, 4, 5]"
      ]
     },
     "execution_count": 56,
     "metadata": {},
     "output_type": "execute_result"
    }
   ],
   "source": [
    "l=[3,4,5]\n",
    "l*3"
   ]
  },
  {
   "cell_type": "code",
   "execution_count": 57,
   "id": "5ca1ceb7-6ddb-4b36-92ea-1b746629371a",
   "metadata": {},
   "outputs": [
    {
     "data": {
      "text/plain": [
       "[3, 4, 5, 3, 4, 5, 3, 4, 5]"
      ]
     },
     "execution_count": 57,
     "metadata": {},
     "output_type": "execute_result"
    }
   ],
   "source": [
    "n=[3,4,5]\n",
    "n*3"
   ]
  },
  {
   "cell_type": "code",
   "execution_count": 58,
   "id": "7926a387-fcf0-449f-a43a-7668c55488c6",
   "metadata": {},
   "outputs": [
    {
     "data": {
      "text/plain": [
       "[3, 4, 5, 3, 4, 5]"
      ]
     },
     "execution_count": 58,
     "metadata": {},
     "output_type": "execute_result"
    }
   ],
   "source": [
    "l+l"
   ]
  },
  {
   "cell_type": "code",
   "execution_count": 59,
   "id": "8259e569-3afe-40d1-8f1f-6a6a988367b5",
   "metadata": {},
   "outputs": [
    {
     "data": {
      "text/plain": [
       "[3, 4, 5, 3, 4, 5]"
      ]
     },
     "execution_count": 59,
     "metadata": {},
     "output_type": "execute_result"
    }
   ],
   "source": [
    "n+n"
   ]
  },
  {
   "cell_type": "code",
   "execution_count": 60,
   "id": "b15ecb69-f90c-4bc9-af90-095b66b1082d",
   "metadata": {},
   "outputs": [
    {
     "data": {
      "text/plain": [
       "array([3, 4, 5])"
      ]
     },
     "execution_count": 60,
     "metadata": {},
     "output_type": "execute_result"
    }
   ],
   "source": [
    "l1=np.array(n)\n",
    "l1"
   ]
  },
  {
   "cell_type": "code",
   "execution_count": 61,
   "id": "08555874-fd70-47b5-8aea-b68f19a335c6",
   "metadata": {},
   "outputs": [
    {
     "data": {
      "text/plain": [
       "array([ 9, 12, 15])"
      ]
     },
     "execution_count": 61,
     "metadata": {},
     "output_type": "execute_result"
    }
   ],
   "source": [
    "l1*3"
   ]
  },
  {
   "cell_type": "code",
   "execution_count": 62,
   "id": "67594460-2a3b-4243-9a79-9e49094bbfb0",
   "metadata": {},
   "outputs": [
    {
     "data": {
      "text/plain": [
       "array([ 6,  8, 10])"
      ]
     },
     "execution_count": 62,
     "metadata": {},
     "output_type": "execute_result"
    }
   ],
   "source": [
    "l1+l1"
   ]
  },
  {
   "cell_type": "code",
   "execution_count": 69,
   "id": "13786805-48f0-4760-b5d5-d3201b64d949",
   "metadata": {},
   "outputs": [
    {
     "name": "stdout",
     "output_type": "stream",
     "text": [
      "[0. 0. 0. 0. 0. 0.]\n",
      "[ 0.  0. 15.  0. 25.  0.]\n"
     ]
    }
   ],
   "source": [
    "\n",
    "import numpy as np\n",
    "x=np.zeros(6)\n",
    "print(x)\n",
    "x[2]=15\n",
    "x[4]=25\n",
    "print(x)\n"
   ]
  },
  {
   "cell_type": "code",
   "execution_count": 70,
   "id": "dea960a9-14a8-49ca-8ee5-b9e26668d9be",
   "metadata": {},
   "outputs": [
    {
     "data": {
      "text/plain": [
       "[10, 20, 30, 40, 50, 60, 70, 80, 90]"
      ]
     },
     "execution_count": 70,
     "metadata": {},
     "output_type": "execute_result"
    }
   ],
   "source": [
    "a=[10,20,30,40,50,60,70,80,90]\n",
    "a"
   ]
  },
  {
   "cell_type": "code",
   "execution_count": 72,
   "id": "061b9f7a-1029-4019-b41f-7ce23930f75c",
   "metadata": {},
   "outputs": [
    {
     "data": {
      "text/plain": [
       "[[0, 1, 2, 3], [4, 5, 6, 7], [8, 9, 10, 11], [12, 13, 14, 15]]"
      ]
     },
     "execution_count": 72,
     "metadata": {},
     "output_type": "execute_result"
    }
   ],
   "source": [
    "b=[[0,1,2,3],\n",
    "   [4,5,6,7],\n",
    "   [8,9,10,11],\n",
    "   [12,13,14,15]]\n",
    "b"
   ]
  },
  {
   "cell_type": "code",
   "execution_count": 75,
   "id": "1bc0183a-3384-454a-afdf-2aaf0fcc9eb9",
   "metadata": {},
   "outputs": [
    {
     "data": {
      "text/plain": [
       "array([[ 0,  1,  2,  3],\n",
       "       [ 4,  5,  6,  7],\n",
       "       [ 8,  9, 10, 11],\n",
       "       [12, 13, 14, 15]])"
      ]
     },
     "execution_count": 75,
     "metadata": {},
     "output_type": "execute_result"
    }
   ],
   "source": [
    "B=np.array(b)\n",
    "B"
   ]
  },
  {
   "cell_type": "code",
   "execution_count": 76,
   "id": "dfc2d936-20cb-4e83-844d-566e1f4a9edf",
   "metadata": {},
   "outputs": [
    {
     "data": {
      "text/plain": [
       "array([[1, 2],\n",
       "       [5, 6]])"
      ]
     },
     "execution_count": 76,
     "metadata": {},
     "output_type": "execute_result"
    }
   ],
   "source": [
    "B[0:2,1:3]"
   ]
  },
  {
   "cell_type": "code",
   "execution_count": 77,
   "id": "fae526ac-8709-4447-af91-a71aabd6f2e2",
   "metadata": {},
   "outputs": [
    {
     "data": {
      "text/plain": [
       "array([10, 20, 30, 40, 50, 60, 70, 80, 90])"
      ]
     },
     "execution_count": 77,
     "metadata": {},
     "output_type": "execute_result"
    }
   ],
   "source": [
    "A=np.array(a)\n",
    "A"
   ]
  },
  {
   "cell_type": "code",
   "execution_count": 78,
   "id": "15b672f8-f949-4910-88de-327c3afcd2cf",
   "metadata": {},
   "outputs": [
    {
     "data": {
      "text/plain": [
       "array([30, 60])"
      ]
     },
     "execution_count": 78,
     "metadata": {},
     "output_type": "execute_result"
    }
   ],
   "source": [
    "A[2:6:3]"
   ]
  },
  {
   "cell_type": "code",
   "execution_count": 79,
   "id": "2b848ea2-c786-40e2-ba77-942b3c869161",
   "metadata": {},
   "outputs": [
    {
     "data": {
      "text/plain": [
       "array([], dtype=int32)"
      ]
     },
     "execution_count": 79,
     "metadata": {},
     "output_type": "execute_result"
    }
   ],
   "source": [
    "A[-1:-3]"
   ]
  },
  {
   "cell_type": "code",
   "execution_count": 80,
   "id": "fe7167c3-8593-4498-8c73-0a5a2ac4932e",
   "metadata": {},
   "outputs": [
    {
     "data": {
      "text/plain": [
       "array([[12, 13, 14, 15],\n",
       "       [ 8,  9, 10, 11],\n",
       "       [ 4,  5,  6,  7],\n",
       "       [ 0,  1,  2,  3]])"
      ]
     },
     "execution_count": 80,
     "metadata": {},
     "output_type": "execute_result"
    }
   ],
   "source": [
    "B[::-1]"
   ]
  },
  {
   "cell_type": "code",
   "execution_count": 81,
   "id": "5592d3b2-350e-472b-989e-26b15a40b73f",
   "metadata": {},
   "outputs": [
    {
     "data": {
      "text/plain": [
       "array([ 2,  6, 10])"
      ]
     },
     "execution_count": 81,
     "metadata": {},
     "output_type": "execute_result"
    }
   ],
   "source": [
    "B[:3,2]"
   ]
  },
  {
   "cell_type": "code",
   "execution_count": 82,
   "id": "f98424d7-62a0-4569-98bd-84d633d98294",
   "metadata": {},
   "outputs": [
    {
     "name": "stdout",
     "output_type": "stream",
     "text": [
      "[1 2 3 3 2 1]\n"
     ]
    }
   ],
   "source": [
    "x=np.array([1,2,3])\n",
    "y=np.array([3,2,1])\n",
    "z=np.concatenate([x,y])\n",
    "print(z)"
   ]
  },
  {
   "cell_type": "code",
   "execution_count": 83,
   "id": "545e9204-5de5-4bd4-8a36-7ea1577a6eaa",
   "metadata": {},
   "outputs": [
    {
     "name": "stdout",
     "output_type": "stream",
     "text": [
      "[[1 2 3]\n",
      " [4 5 6]\n",
      " [1 2 3]\n",
      " [4 5 6]]\n"
     ]
    }
   ],
   "source": [
    "grid=np.array([[1,2,3],[4,5,6]])\n",
    "g2=np.concatenate([grid,grid])\n",
    "print(g2)"
   ]
  },
  {
   "cell_type": "code",
   "execution_count": 84,
   "id": "119c7201-93a2-4dd5-9372-f267ea9c9b17",
   "metadata": {},
   "outputs": [
    {
     "name": "stdout",
     "output_type": "stream",
     "text": [
      "[[1 2 3 1 2 3]\n",
      " [4 5 6 4 5 6]]\n"
     ]
    }
   ],
   "source": [
    "grid=np.array([[1,2,3],[4,5,6]])\n",
    "g2=np.concatenate([grid,grid],axis=1)\n",
    "print(g2)"
   ]
  },
  {
   "cell_type": "code",
   "execution_count": 88,
   "id": "906f2a9a-b2f5-49dc-b8aa-9f417d478570",
   "metadata": {},
   "outputs": [
    {
     "name": "stdout",
     "output_type": "stream",
     "text": [
      "[[1 2 3]\n",
      " [9 8 7]\n",
      " [6 5 4]]\n"
     ]
    }
   ],
   "source": [
    "x=np.array([1,2,3])\n",
    "g=np.array([[9,8,7],[6,5,4]])\n",
    "r=np.vstack([x,g])\n",
    "print(r)"
   ]
  },
  {
   "cell_type": "code",
   "execution_count": 90,
   "id": "1c31d3db-a37e-4607-91a7-f03780881e65",
   "metadata": {},
   "outputs": [
    {
     "name": "stdout",
     "output_type": "stream",
     "text": [
      "[[ 9  8  7 99]\n",
      " [ 6  5  4 99]]\n"
     ]
    }
   ],
   "source": [
    "g=np.array([[9,8,7],[6,5,4]])\n",
    "y=np.array([[99],[99]])\n",
    "r=np.hstack([g,y])\n",
    "print(r)\n"
   ]
  },
  {
   "cell_type": "code",
   "execution_count": 93,
   "id": "6d949e57-8c6a-49ee-a71f-3893a4a57a6e",
   "metadata": {},
   "outputs": [
    {
     "data": {
      "text/plain": [
       "array([[16, 32, 11, 48],\n",
       "       [22, 36, 65, 58],\n",
       "       [27, 64, 55, 32],\n",
       "       [29, 67, 40, 32]])"
      ]
     },
     "execution_count": 93,
     "metadata": {},
     "output_type": "execute_result"
    }
   ],
   "source": [
    "p=np.random.randint(11,71,16).reshape(4,4)\n",
    "p"
   ]
  },
  {
   "cell_type": "code",
   "execution_count": 94,
   "id": "7fe748f8-950e-4157-9ad9-4e7ab1aa8b0f",
   "metadata": {},
   "outputs": [
    {
     "data": {
      "text/plain": [
       "array([[19, 12,  4,  5],\n",
       "       [ 7, 28, 16, 19],\n",
       "       [33, 39, 37, 35],\n",
       "       [16, 23, 32, 23]])"
      ]
     },
     "execution_count": 94,
     "metadata": {},
     "output_type": "execute_result"
    }
   ],
   "source": [
    "q=np.random.randint(2,41,16).reshape(4,4)\n",
    "q"
   ]
  },
  {
   "cell_type": "code",
   "execution_count": 95,
   "id": "63eb2e0d-193f-43ef-b2f1-a0ca240f46ed",
   "metadata": {},
   "outputs": [
    {
     "data": {
      "text/plain": [
       "array([[26, 42, 21, 58],\n",
       "       [32, 46, 75, 68],\n",
       "       [37, 74, 65, 42],\n",
       "       [39, 77, 50, 42]])"
      ]
     },
     "execution_count": 95,
     "metadata": {},
     "output_type": "execute_result"
    }
   ],
   "source": [
    "p=p+10\n",
    "p"
   ]
  },
  {
   "cell_type": "code",
   "execution_count": 96,
   "id": "42cac21e-d416-45dd-87b4-e7741e06d749",
   "metadata": {},
   "outputs": [
    {
     "data": {
      "text/plain": [
       "array([[ 494,  504,   84,  290],\n",
       "       [ 224, 1288, 1200, 1292],\n",
       "       [1221, 2886, 2405, 1470],\n",
       "       [ 624, 1771, 1600,  966]])"
      ]
     },
     "execution_count": 96,
     "metadata": {},
     "output_type": "execute_result"
    }
   ],
   "source": [
    "r=p*q\n",
    "r"
   ]
  },
  {
   "cell_type": "code",
   "execution_count": 98,
   "id": "a93920d6-40a5-461f-b03c-e2ca66adc9d5",
   "metadata": {},
   "outputs": [
    {
     "data": {
      "text/plain": [
       "array([[2.71428571, 1.71428571, 0.57142857, 0.71428571],\n",
       "       [1.        , 4.        , 2.28571429, 2.71428571],\n",
       "       [4.71428571, 5.57142857, 5.28571429, 5.        ],\n",
       "       [2.28571429, 3.28571429, 4.57142857, 3.28571429]])"
      ]
     },
     "execution_count": 98,
     "metadata": {},
     "output_type": "execute_result"
    }
   ],
   "source": [
    "y=q/7\n",
    "y"
   ]
  },
  {
   "cell_type": "code",
   "execution_count": 99,
   "id": "1b928cc5-b1e2-423c-858a-d33fbdd4fc6e",
   "metadata": {},
   "outputs": [
    {
     "data": {
      "text/plain": [
       "array([[5, 0, 0, 2],\n",
       "       [4, 4, 5, 5],\n",
       "       [2, 4, 2, 0],\n",
       "       [4, 0, 1, 0]], dtype=int32)"
      ]
     },
     "execution_count": 99,
     "metadata": {},
     "output_type": "execute_result"
    }
   ],
   "source": [
    "x=p%7\n",
    "x"
   ]
  },
  {
   "cell_type": "code",
   "execution_count": 103,
   "id": "fd02fba8-23d7-438d-9491-b948732641cb",
   "metadata": {},
   "outputs": [
    {
     "data": {
      "text/plain": [
       "array([[ 0,  1,  2,  3],\n",
       "       [ 4,  5,  6,  7],\n",
       "       [ 8,  9, 10, 11],\n",
       "       [12, 13, 14, 15]])"
      ]
     },
     "execution_count": 103,
     "metadata": {},
     "output_type": "execute_result"
    }
   ],
   "source": [
    "A=np.arange(0,16).reshape(4,4)\n",
    "A"
   ]
  },
  {
   "cell_type": "code",
   "execution_count": 111,
   "id": "87d713ff-ad5e-4583-acf1-3d8692294088",
   "metadata": {},
   "outputs": [
    {
     "name": "stdout",
     "output_type": "stream",
     "text": [
      "[[1. 1. 1. 1. 1. 1. 1. 1. 1. 1.]\n",
      " [1. 0. 0. 0. 0. 0. 0. 0. 0. 1.]\n",
      " [1. 0. 0. 0. 0. 0. 0. 0. 0. 1.]\n",
      " [1. 0. 0. 0. 0. 0. 0. 0. 0. 1.]\n",
      " [1. 0. 0. 0. 0. 0. 0. 0. 0. 1.]\n",
      " [1. 0. 0. 0. 0. 0. 0. 0. 0. 1.]\n",
      " [1. 0. 0. 0. 0. 0. 0. 0. 0. 1.]\n",
      " [1. 0. 0. 0. 0. 0. 0. 0. 0. 1.]\n",
      " [1. 0. 0. 0. 0. 0. 0. 0. 0. 1.]\n",
      " [1. 1. 1. 1. 1. 1. 1. 1. 1. 1.]]\n"
     ]
    }
   ],
   "source": [
    "x=np.ones((10,10))\n",
    "x[1:-1,1:-1]=0\n",
    "print(x)"
   ]
  },
  {
   "cell_type": "code",
   "execution_count": null,
   "id": "b1c81cba-02b4-4d86-b37a-60f962aac9e9",
   "metadata": {},
   "outputs": [],
   "source": []
  }
 ],
 "metadata": {
  "kernelspec": {
   "display_name": "Python 3 (ipykernel)",
   "language": "python",
   "name": "python3"
  },
  "language_info": {
   "codemirror_mode": {
    "name": "ipython",
    "version": 3
   },
   "file_extension": ".py",
   "mimetype": "text/x-python",
   "name": "python",
   "nbconvert_exporter": "python",
   "pygments_lexer": "ipython3",
   "version": "3.9.18"
  }
 },
 "nbformat": 4,
 "nbformat_minor": 5
}

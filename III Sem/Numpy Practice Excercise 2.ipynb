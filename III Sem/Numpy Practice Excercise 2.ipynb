{
 "cells": [
  {
   "cell_type": "code",
   "execution_count": 1,
   "id": "718ec558-4de4-4f22-b356-a1f3a16fb559",
   "metadata": {},
   "outputs": [],
   "source": [
    "import pandas as pd\n",
    "import numpy as np"
   ]
  },
  {
   "cell_type": "code",
   "execution_count": 4,
   "id": "51f8c4ad-6f4b-4291-886d-7d2c94c3bebd",
   "metadata": {},
   "outputs": [
    {
     "data": {
      "text/plain": [
       "array([[ 7, 19, 26],\n",
       "       [25, 28, 13],\n",
       "       [16, 29, 13]])"
      ]
     },
     "execution_count": 4,
     "metadata": {},
     "output_type": "execute_result"
    }
   ],
   "source": [
    "x=np.random.randint(6,30,9).reshape(3,3)\n",
    "x"
   ]
  },
  {
   "cell_type": "code",
   "execution_count": 3,
   "id": "071895a7-7956-4537-9af7-2ccb36261b95",
   "metadata": {},
   "outputs": [
    {
     "data": {
      "text/plain": [
       "135"
      ]
     },
     "execution_count": 3,
     "metadata": {},
     "output_type": "execute_result"
    }
   ],
   "source": [
    "sum(x)"
   ]
  },
  {
   "cell_type": "code",
   "execution_count": 6,
   "id": "784cd081-56c6-4722-bd5e-35414f19e598",
   "metadata": {},
   "outputs": [
    {
     "data": {
      "text/plain": [
       "array([52, 66, 58])"
      ]
     },
     "execution_count": 6,
     "metadata": {},
     "output_type": "execute_result"
    }
   ],
   "source": [
    "np.sum(x,axis=1)"
   ]
  },
  {
   "cell_type": "code",
   "execution_count": 7,
   "id": "3a4762ff-2f85-4981-9638-e1a769255896",
   "metadata": {},
   "outputs": [
    {
     "data": {
      "text/plain": [
       "array([48, 76, 52])"
      ]
     },
     "execution_count": 7,
     "metadata": {},
     "output_type": "execute_result"
    }
   ],
   "source": [
    "np.sum(x,axis=0)"
   ]
  },
  {
   "cell_type": "code",
   "execution_count": 20,
   "id": "15197c87-9193-47c9-9833-eeb4a4cc3dbf",
   "metadata": {},
   "outputs": [
    {
     "data": {
      "text/plain": [
       "array([40, 31, 25, 19, 57, 25, 62, 24, 41, 37, 47, 57, 46, 47, 71, 56, 42,\n",
       "       56, 62, 75, 37, 55, 65, 30, 48])"
      ]
     },
     "execution_count": 20,
     "metadata": {},
     "output_type": "execute_result"
    }
   ],
   "source": [
    "z=np.random.randint(18,76,25)\n",
    "z"
   ]
  },
  {
   "cell_type": "code",
   "execution_count": 21,
   "id": "ce521cdf-f5d5-4b3a-a8d8-4eeaa6a27590",
   "metadata": {},
   "outputs": [
    {
     "data": {
      "text/plain": [
       "array([31, 25, 19, 57, 25, 41, 37, 47, 57, 47, 71, 75, 37, 55, 65])"
      ]
     },
     "execution_count": 21,
     "metadata": {},
     "output_type": "execute_result"
    }
   ],
   "source": [
    "a=z[z%2==1]\n",
    "a"
   ]
  },
  {
   "cell_type": "code",
   "execution_count": 18,
   "id": "0588b1dc-5bb3-4dad-ab0a-805ddf0f4a1b",
   "metadata": {},
   "outputs": [
    {
     "data": {
      "text/plain": [
       "array([35, 67, 31, 49, 59, -1, 27, -1, 43, 65, 61, -1, 49, 43, -1, 33, -1,\n",
       "       -1, -1, -1, 23, 75, -1, 23, -1])"
      ]
     },
     "execution_count": 18,
     "metadata": {},
     "output_type": "execute_result"
    }
   ],
   "source": []
  },
  {
   "cell_type": "code",
   "execution_count": 86,
   "id": "773ff365-2abd-4659-a344-4dec98179e1e",
   "metadata": {},
   "outputs": [
    {
     "data": {
      "text/plain": [
       "array([[35, 35, 42, 39, 70, 67, 46],\n",
       "       [42, 40, 60, 21, 23, 21, 45],\n",
       "       [66, 55, 37, 28, 22, 66, 31]])"
      ]
     },
     "execution_count": 86,
     "metadata": {},
     "output_type": "execute_result"
    }
   ],
   "source": [
    "z=np.random.randint(18,76,21).reshape(3,7)\n",
    "z"
   ]
  },
  {
   "cell_type": "code",
   "execution_count": 97,
   "id": "d033b18a-5e96-4c39-8283-878f10e2c6ba",
   "metadata": {},
   "outputs": [
    {
     "data": {
      "text/plain": [
       "array([61, 71, 75, 89, 51, 61, 46, 81, 51, 80, 72, 67, 70, 72, 64, 65, 85,\n",
       "       50, 85, 61, 80, 57, 66, 81, 83])"
      ]
     },
     "execution_count": 97,
     "metadata": {},
     "output_type": "execute_result"
    }
   ],
   "source": [
    "z=np.random.randint(45,90,25)\n",
    "z"
   ]
  },
  {
   "cell_type": "code",
   "execution_count": 98,
   "id": "c7717d2a-b327-48e9-aa96-ac91d268c4fd",
   "metadata": {},
   "outputs": [
    {
     "data": {
      "text/plain": [
       "array([61, 71, 75, 89, 51, 61, 46, 81, 51, 80, 72, 67, 70, 72, 64, 65, 85,\n",
       "       50, 85, 61, 80, 57, 66, 81, 83])"
      ]
     },
     "execution_count": 98,
     "metadata": {},
     "output_type": "execute_result"
    }
   ],
   "source": [
    "b=np.copy(z)\n",
    "b"
   ]
  },
  {
   "cell_type": "code",
   "execution_count": 99,
   "id": "d97e6785-20bb-462a-8d93-1e61cb3db4a0",
   "metadata": {},
   "outputs": [],
   "source": [
    "a=(z%2==0)\n",
    "z[a]=-3"
   ]
  },
  {
   "cell_type": "code",
   "execution_count": 100,
   "id": "9574a2d6-84cc-47a4-b212-31c1cfeac301",
   "metadata": {},
   "outputs": [
    {
     "data": {
      "text/plain": [
       "array([61, 71, 75, 89, 51, 61, -3, 81, 51, -3, -3, 67, -3, -3, -3, 65, 85,\n",
       "       -3, 85, 61, -3, 57, -3, 81, 83])"
      ]
     },
     "execution_count": 100,
     "metadata": {},
     "output_type": "execute_result"
    }
   ],
   "source": [
    "z"
   ]
  },
  {
   "cell_type": "code",
   "execution_count": 101,
   "id": "d1f467a5-1f0f-4564-8694-9c920d58233a",
   "metadata": {},
   "outputs": [
    {
     "data": {
      "text/plain": [
       "array([61, 71, 75, 89, 51, 61, 46, 81, 51, 80, 72, 67, 70, 72, 64, 65, 85,\n",
       "       50, 85, 61, 80, 57, 66, 81, 83])"
      ]
     },
     "execution_count": 101,
     "metadata": {},
     "output_type": "execute_result"
    }
   ],
   "source": [
    "b"
   ]
  },
  {
   "cell_type": "code",
   "execution_count": 84,
   "id": "edfd2f68-36bb-4184-9364-5df3a6a4133b",
   "metadata": {},
   "outputs": [
    {
     "data": {
      "text/plain": [
       "array([-3, -3, -3, 87, -3, -3, 55, 67, -3, 83, -3, -3, -3, 81, 47, 85, 61,\n",
       "       57, 67, -3, -3, 73, -3, -3, 69])"
      ]
     },
     "execution_count": 84,
     "metadata": {},
     "output_type": "execute_result"
    }
   ],
   "source": [
    "z"
   ]
  },
  {
   "cell_type": "code",
   "execution_count": 102,
   "id": "666af9f2-4097-478d-9048-489905325251",
   "metadata": {},
   "outputs": [
    {
     "name": "stdout",
     "output_type": "stream",
     "text": [
      "[40 50 60 70]\n"
     ]
    }
   ],
   "source": [
    "import numpy as np\n",
    "d=np.array([10,20,30,40,50,60,70])\n",
    "print(d[-4:])"
   ]
  },
  {
   "cell_type": "code",
   "execution_count": 106,
   "id": "4d1d7cad-3e13-49b6-b247-ae36c287feaf",
   "metadata": {},
   "outputs": [
    {
     "name": "stdout",
     "output_type": "stream",
     "text": [
      "[10 12 16 20]\n"
     ]
    }
   ],
   "source": [
    "import numpy as np\n",
    "a1=np.array([10,12,14,16,18,20,22])\n",
    "a2=np.array([10,12,15,16,12,20,12])\n",
    "a=(np.where(a1==a2))\n",
    "print(a1[a])"
   ]
  },
  {
   "cell_type": "code",
   "execution_count": 107,
   "id": "e8eab5ae-58a9-48fe-8ea5-3fcf99ac6bc7",
   "metadata": {},
   "outputs": [
    {
     "data": {
      "text/plain": [
       "[1, 0, 0, 0, 1, 0, 0, 0, 1]"
      ]
     },
     "execution_count": 107,
     "metadata": {},
     "output_type": "execute_result"
    }
   ],
   "source": [
    "list=[1,0,0,0,1,0,0,0,1]\n",
    "list"
   ]
  },
  {
   "cell_type": "code",
   "execution_count": 109,
   "id": "cff0d2b8-7314-46c2-bc99-37e3756a502b",
   "metadata": {},
   "outputs": [
    {
     "data": {
      "text/plain": [
       "array([[1, 0, 0],\n",
       "       [0, 1, 0],\n",
       "       [0, 0, 1]])"
      ]
     },
     "execution_count": 109,
     "metadata": {},
     "output_type": "execute_result"
    }
   ],
   "source": [
    "a=np.array(list).reshape(3,3)\n",
    "a"
   ]
  },
  {
   "cell_type": "code",
   "execution_count": 111,
   "id": "fa1c28bf-c2db-4123-a686-dd9470a8842a",
   "metadata": {},
   "outputs": [
    {
     "data": {
      "text/plain": [
       "array([13, 11, 14, 18, 17, 15])"
      ]
     },
     "execution_count": 111,
     "metadata": {},
     "output_type": "execute_result"
    }
   ],
   "source": [
    "b=np.random.randint(10,20,6)\n",
    "b"
   ]
  },
  {
   "cell_type": "code",
   "execution_count": 138,
   "id": "f33ee2ee-23c6-469e-8d2c-7ae219d1bee0",
   "metadata": {
    "scrolled": true
   },
   "outputs": [
    {
     "ename": "ValueError",
     "evalue": "NumPy boolean array indexing assignment cannot assign 6 input values to the 0 output values where the mask is true",
     "output_type": "error",
     "traceback": [
      "\u001b[1;31m---------------------------------------------------------------------------\u001b[0m",
      "\u001b[1;31mValueError\u001b[0m                                Traceback (most recent call last)",
      "Cell \u001b[1;32mIn[138], line 1\u001b[0m\n\u001b[1;32m----> 1\u001b[0m a[a\u001b[38;5;241m==\u001b[39m\u001b[38;5;241m0\u001b[39m]\u001b[38;5;241m=\u001b[39mb\n\u001b[0;32m      2\u001b[0m a\n",
      "\u001b[1;31mValueError\u001b[0m: NumPy boolean array indexing assignment cannot assign 6 input values to the 0 output values where the mask is true"
     ]
    }
   ],
   "source": [
    "a[a==0]=b"
   ]
  },
  {
   "cell_type": "code",
   "execution_count": 139,
   "id": "e25527e2-1f67-416c-aaf4-ee2140507f32",
   "metadata": {},
   "outputs": [
    {
     "data": {
      "text/plain": [
       "array([[ 1, 13, 11],\n",
       "       [14,  1, 18],\n",
       "       [17, 15,  1]])"
      ]
     },
     "execution_count": 139,
     "metadata": {},
     "output_type": "execute_result"
    }
   ],
   "source": [
    "a"
   ]
  },
  {
   "cell_type": "code",
   "execution_count": 132,
   "id": "ac1f264b-1bda-43e8-857d-d06b3a06167a",
   "metadata": {},
   "outputs": [],
   "source": [
    "m=np.array([13,0,0,25])\n",
    "n=np.array([20,30])"
   ]
  },
  {
   "cell_type": "code",
   "execution_count": null,
   "id": "0eeaa7c2-f85a-44a8-a516-0dafd5561492",
   "metadata": {},
   "outputs": [],
   "source": []
  },
  {
   "cell_type": "code",
   "execution_count": 134,
   "id": "001f4e73-1124-46a1-8b66-de919b9182ee",
   "metadata": {},
   "outputs": [
    {
     "data": {
      "text/plain": [
       "array([0, 0])"
      ]
     },
     "execution_count": 134,
     "metadata": {},
     "output_type": "execute_result"
    }
   ],
   "source": [
    "m[m==0]"
   ]
  },
  {
   "cell_type": "code",
   "execution_count": 135,
   "id": "ff5895c5-45f3-4cee-a843-7ff381234eba",
   "metadata": {},
   "outputs": [],
   "source": [
    "m[m==0]=n"
   ]
  },
  {
   "cell_type": "markdown",
   "id": "cf4a238a-ff93-45a2-abf4-f3f183a45718",
   "metadata": {
    "jp-MarkdownHeadingCollapsed": true
   },
   "source": [
    "m"
   ]
  },
  {
   "cell_type": "code",
   "execution_count": 136,
   "id": "1f38aed6-70af-48d1-852b-fa62d78aac92",
   "metadata": {},
   "outputs": [
    {
     "data": {
      "text/plain": [
       "array([13, 20, 30, 25])"
      ]
     },
     "execution_count": 136,
     "metadata": {},
     "output_type": "execute_result"
    }
   ],
   "source": [
    "m"
   ]
  },
  {
   "cell_type": "code",
   "execution_count": 148,
   "id": "addd163d-8780-4cc9-ab2a-48945fca4afd",
   "metadata": {},
   "outputs": [
    {
     "data": {
      "text/plain": [
       "[0, 1, 1, 1, 0, 1, 1, 1, 0]"
      ]
     },
     "execution_count": 148,
     "metadata": {},
     "output_type": "execute_result"
    }
   ],
   "source": [
    "list=[0,1,1,1,0,1,1,1,0]\n",
    "list"
   ]
  },
  {
   "cell_type": "code",
   "execution_count": 149,
   "id": "c753121a-fa4f-4d45-bdd1-49446a78ed15",
   "metadata": {},
   "outputs": [
    {
     "data": {
      "text/plain": [
       "array([[0, 1, 1],\n",
       "       [1, 0, 1],\n",
       "       [1, 1, 0]])"
      ]
     },
     "execution_count": 149,
     "metadata": {},
     "output_type": "execute_result"
    }
   ],
   "source": [
    "a=np.array(list).reshape(3,3)\n",
    "a"
   ]
  },
  {
   "cell_type": "code",
   "execution_count": 152,
   "id": "8a1651c2-c3a7-4648-8500-1a06ec800ea7",
   "metadata": {},
   "outputs": [
    {
     "data": {
      "text/plain": [
       "array([9, 5, 3])"
      ]
     },
     "execution_count": 152,
     "metadata": {},
     "output_type": "execute_result"
    }
   ],
   "source": [
    "b=np.random.randint(1,10,3)\n",
    "b"
   ]
  },
  {
   "cell_type": "code",
   "execution_count": 153,
   "id": "6b8ff811-7f3f-4015-a9f0-8e2950bedf76",
   "metadata": {},
   "outputs": [],
   "source": [
    "a[a==0]=b"
   ]
  },
  {
   "cell_type": "code",
   "execution_count": 197,
   "id": "43da618d-a8af-412c-ace3-72162e568618",
   "metadata": {},
   "outputs": [
    {
     "data": {
      "text/plain": [
       "array([[2, 4, 6]])"
      ]
     },
     "execution_count": 197,
     "metadata": {},
     "output_type": "execute_result"
    }
   ],
   "source": [
    "a"
   ]
  },
  {
   "cell_type": "code",
   "execution_count": 198,
   "id": "93fc2ebd-3900-434c-8dba-180ae046ac28",
   "metadata": {},
   "outputs": [
    {
     "data": {
      "text/plain": [
       "[2, 4, 6, 7, 8, 9, 1, 2, 3]"
      ]
     },
     "execution_count": 198,
     "metadata": {},
     "output_type": "execute_result"
    }
   ],
   "source": [
    "l=[2,4,6,7,8,9,1,2,3]\n",
    "l\n"
   ]
  },
  {
   "cell_type": "code",
   "execution_count": 205,
   "id": "c23a19a7-9ef4-497a-b352-eb9656210b69",
   "metadata": {},
   "outputs": [
    {
     "data": {
      "text/plain": [
       "array([[2, 4, 6],\n",
       "       [7, 8, 9],\n",
       "       [1, 2, 3]])"
      ]
     },
     "execution_count": 205,
     "metadata": {},
     "output_type": "execute_result"
    }
   ],
   "source": [
    "a=np.array(l).reshape(3,3)\n",
    "a"
   ]
  },
  {
   "cell_type": "code",
   "execution_count": 206,
   "id": "14d59a78-4b99-4dc9-ab7f-17f67224b55f",
   "metadata": {},
   "outputs": [
    {
     "data": {
      "text/plain": [
       "array([[2, 4, 6]])"
      ]
     },
     "execution_count": 206,
     "metadata": {},
     "output_type": "execute_result"
    }
   ],
   "source": [
    "x=np.vsplit(a,3)[0]\n",
    "x"
   ]
  },
  {
   "cell_type": "code",
   "execution_count": 217,
   "id": "2e7dc1ea-6aaa-4002-aaff-88b9baaf225c",
   "metadata": {},
   "outputs": [
    {
     "data": {
      "text/plain": [
       "array([[4, 8, 2]])"
      ]
     },
     "execution_count": 217,
     "metadata": {},
     "output_type": "execute_result"
    }
   ],
   "source": [
    "b=np.hsplit(a,3)[1].T\n",
    "b"
   ]
  },
  {
   "cell_type": "code",
   "execution_count": 218,
   "id": "f8493a3a-2937-4671-bb9d-ce9aac57ce89",
   "metadata": {},
   "outputs": [
    {
     "data": {
      "text/plain": [
       "array([[2, 4, 6, 4, 8, 2]])"
      ]
     },
     "execution_count": 218,
     "metadata": {},
     "output_type": "execute_result"
    }
   ],
   "source": [
    "np.hstack([x,b])"
   ]
  },
  {
   "cell_type": "code",
   "execution_count": 221,
   "id": "407d9df5-c392-4f6f-a9d3-45bb452d1d88",
   "metadata": {},
   "outputs": [
    {
     "data": {
      "text/plain": [
       "array([[2, 4, 6],\n",
       "       [4, 8, 2]])"
      ]
     },
     "execution_count": 221,
     "metadata": {},
     "output_type": "execute_result"
    }
   ],
   "source": [
    "np.concatenate([x,b])\n"
   ]
  },
  {
   "cell_type": "code",
   "execution_count": null,
   "id": "bffedfac-2d29-4ac3-8548-286af2e9773f",
   "metadata": {},
   "outputs": [],
   "source": []
  }
 ],
 "metadata": {
  "kernelspec": {
   "display_name": "Python 3 (ipykernel)",
   "language": "python",
   "name": "python3"
  },
  "language_info": {
   "codemirror_mode": {
    "name": "ipython",
    "version": 3
   },
   "file_extension": ".py",
   "mimetype": "text/x-python",
   "name": "python",
   "nbconvert_exporter": "python",
   "pygments_lexer": "ipython3",
   "version": "3.9.18"
  }
 },
 "nbformat": 4,
 "nbformat_minor": 5
}

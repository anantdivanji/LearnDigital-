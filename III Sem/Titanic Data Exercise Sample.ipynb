{
 "cells": [
  {
   "cell_type": "markdown",
   "metadata": {},
   "source": [
    "## Exercises:\n",
    "\n",
    "- select passengers that survived\n",
    "- select passengers that embarked in port S\n",
    "- select male passengers\n",
    "- select passengers who paid less than 40.000 and were in third class\n",
    "- locate the name of passegner Id 674\n",
    "- calculate the average age of passengers using the function mean()\n",
    "- count the number of survived and the number of dead passengers\n",
    "- count the number of males and females\n",
    "- count the number of survived and dead per each gender\n",
    "- calculate average price paid by survived and dead people in each class"
   ]
  }
 ],
 "metadata": {
  "anaconda-cloud": {},
  "kernelspec": {
   "display_name": "Python 3 (ipykernel)",
   "language": "python",
   "name": "python3"
  },
  "language_info": {
   "codemirror_mode": {
    "name": "ipython",
    "version": 3
   },
   "file_extension": ".py",
   "mimetype": "text/x-python",
   "name": "python",
   "nbconvert_exporter": "python",
   "pygments_lexer": "ipython3",
   "version": "3.9.18"
  }
 },
 "nbformat": 4,
 "nbformat_minor": 4
}

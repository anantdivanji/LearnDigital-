{
 "cells": [
  {
   "cell_type": "markdown",
   "id": "37c1daa5",
   "metadata": {},
   "source": [
    "# Import the necessary libraries and create a dataframe from the dictionary"
   ]
  },
  {
   "cell_type": "code",
   "execution_count": null,
   "id": "bb5b520a",
   "metadata": {},
   "outputs": [],
   "source": [
    "data = {\n",
    "    'Name': ['Alice', 'Bob', 'Charlie', 'David', 'Eva'],\n",
    "    'Age': [25, 30, 35, 40, 22],\n",
    "    'City': ['New York', 'Los Angeles', 'Chicago', 'Houston', 'Phoenix'],\n",
    "    'Salary': [70000, 80000, 75000, 90000, 60000]\n",
    "}\n",
    "\n"
   ]
  },
  {
   "cell_type": "markdown",
   "id": "f1ee7cd7",
   "metadata": {},
   "source": [
    "# Exercise 2: Calculate the Average Salary\n",
    "Write a code snippet to calculate the average salary from the DataFrame.\n",
    "\n",
    "### Expected Output:\n",
    "```python\n",
    "75000.0\n",
    "```\n"
   ]
  },
  {
   "cell_type": "markdown",
   "id": "a6a3f332",
   "metadata": {},
   "source": [
    "# Exercise 3: Filter People Based on Age\n",
    "Write code to filter the DataFrame and show only the people who are older than 30 years.\n",
    "\n",
    "### Expected Output:\n",
    "```python\n",
    "      Name  Age      City  Salary\n",
    "2  Charlie   35   Chicago   75000\n",
    "3    David   40   Houston   90000\n",
    "```\n"
   ]
  },
  {
   "cell_type": "markdown",
   "id": "c13e9705",
   "metadata": {},
   "source": [
    "# Exercise 4: Add a New Column for Bonus\n",
    "Add a new column to the DataFrame that calculates a 10% bonus for each person based on their salary.\n",
    "\n",
    "### Expected Output:\n",
    "```python\n",
    "      Name  Age         City  Salary  Bonus\n",
    "0    Alice   25     New York   70000   7000\n",
    "1      Bob   30  Los Angeles   80000   8000\n",
    "2  Charlie   35      Chicago   75000   7500\n",
    "3    David   40      Houston   90000   9000\n",
    "4      Eva   22      Phoenix   60000   6000\n",
    "```\n"
   ]
  },
  {
   "cell_type": "markdown",
   "id": "99549e39",
   "metadata": {},
   "source": [
    "# Exercise 5: Find the City of the Youngest Person\n",
    "Write code to identify the city where the youngest person in the DataFrame lives.\n",
    "\n",
    "### Expected Output:\n",
    "```python\n",
    "'Phoenix'\n",
    "```\n"
   ]
  }
 ],
 "metadata": {
  "kernelspec": {
   "display_name": "Python 3 (ipykernel)",
   "language": "python",
   "name": "python3"
  },
  "language_info": {
   "codemirror_mode": {
    "name": "ipython",
    "version": 3
   },
   "file_extension": ".py",
   "mimetype": "text/x-python",
   "name": "python",
   "nbconvert_exporter": "python",
   "pygments_lexer": "ipython3",
   "version": "3.9.18"
  }
 },
 "nbformat": 4,
 "nbformat_minor": 5
}

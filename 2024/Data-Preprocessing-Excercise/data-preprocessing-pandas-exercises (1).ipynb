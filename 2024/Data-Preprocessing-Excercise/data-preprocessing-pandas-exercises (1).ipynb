{
 "cells": [
  {
   "cell_type": "markdown",
   "id": "romance-claim",
   "metadata": {
    "papermill": {
     "duration": 0.095331,
     "end_time": "2021-05-15T14:38:54.165372",
     "exception": false,
     "start_time": "2021-05-15T14:38:54.070041",
     "status": "completed"
    },
    "tags": []
   },
   "source": [
    "# **Import Packages**"
   ]
  },
  {
   "cell_type": "code",
   "execution_count": 1,
   "id": "neural-tennessee",
   "metadata": {
    "execution": {
     "iopub.execute_input": "2021-05-15T14:38:54.367504Z",
     "iopub.status.busy": "2021-05-15T14:38:54.365491Z",
     "iopub.status.idle": "2021-05-15T14:38:54.368895Z",
     "shell.execute_reply": "2021-05-15T14:38:54.369475Z"
    },
    "papermill": {
     "duration": 0.107145,
     "end_time": "2021-05-15T14:38:54.369826",
     "exception": false,
     "start_time": "2021-05-15T14:38:54.262681",
     "status": "completed"
    },
    "tags": []
   },
   "outputs": [],
   "source": [
    "#import pandas as pd"
   ]
  },
  {
   "cell_type": "markdown",
   "id": "english-affiliate",
   "metadata": {
    "papermill": {
     "duration": 0.096098,
     "end_time": "2021-05-15T14:38:54.561360",
     "exception": false,
     "start_time": "2021-05-15T14:38:54.465262",
     "status": "completed"
    },
    "tags": []
   },
   "source": [
    "# **Import Data**"
   ]
  },
  {
   "cell_type": "code",
   "execution_count": 2,
   "id": "approved-wrist",
   "metadata": {
    "execution": {
     "iopub.execute_input": "2021-05-15T14:38:54.759060Z",
     "iopub.status.busy": "2021-05-15T14:38:54.758103Z",
     "iopub.status.idle": "2021-05-15T14:38:54.762895Z",
     "shell.execute_reply": "2021-05-15T14:38:54.762078Z"
    },
    "papermill": {
     "duration": 0.104264,
     "end_time": "2021-05-15T14:38:54.763054",
     "exception": false,
     "start_time": "2021-05-15T14:38:54.658790",
     "status": "completed"
    },
    "tags": []
   },
   "outputs": [],
   "source": [
    "#data = pd.read_csv('../input/new-york-weather/nyc_weather_data.csv')"
   ]
  },
  {
   "cell_type": "markdown",
   "id": "traditional-adobe",
   "metadata": {
    "papermill": {
     "duration": 0.094913,
     "end_time": "2021-05-15T14:38:54.954142",
     "exception": false,
     "start_time": "2021-05-15T14:38:54.859229",
     "status": "completed"
    },
    "tags": []
   },
   "source": [
    "<font color='blue'>**HEAD - First 5 rows**</font>"
   ]
  },
  {
   "cell_type": "code",
   "execution_count": 3,
   "id": "rotary-coordinator",
   "metadata": {
    "execution": {
     "iopub.execute_input": "2021-05-15T14:38:55.150683Z",
     "iopub.status.busy": "2021-05-15T14:38:55.149693Z",
     "iopub.status.idle": "2021-05-15T14:38:55.152996Z",
     "shell.execute_reply": "2021-05-15T14:38:55.152447Z"
    },
    "papermill": {
     "duration": 0.103942,
     "end_time": "2021-05-15T14:38:55.153136",
     "exception": false,
     "start_time": "2021-05-15T14:38:55.049194",
     "status": "completed"
    },
    "tags": []
   },
   "outputs": [],
   "source": [
    "#data._____()"
   ]
  },
  {
   "cell_type": "markdown",
   "id": "deadly-electric",
   "metadata": {
    "papermill": {
     "duration": 0.099262,
     "end_time": "2021-05-15T14:38:55.346785",
     "exception": false,
     "start_time": "2021-05-15T14:38:55.247523",
     "status": "completed"
    },
    "tags": []
   },
   "source": [
    "<font color='blue'>**TAIL - Last 5 rows**</font>"
   ]
  },
  {
   "cell_type": "code",
   "execution_count": 4,
   "id": "relative-imaging",
   "metadata": {
    "execution": {
     "iopub.execute_input": "2021-05-15T14:38:55.569100Z",
     "iopub.status.busy": "2021-05-15T14:38:55.568165Z",
     "iopub.status.idle": "2021-05-15T14:38:55.571365Z",
     "shell.execute_reply": "2021-05-15T14:38:55.570851Z"
    },
    "papermill": {
     "duration": 0.10451,
     "end_time": "2021-05-15T14:38:55.571511",
     "exception": false,
     "start_time": "2021-05-15T14:38:55.467001",
     "status": "completed"
    },
    "tags": []
   },
   "outputs": [],
   "source": [
    "#data._____()"
   ]
  },
  {
   "cell_type": "markdown",
   "id": "dense-passage",
   "metadata": {
    "papermill": {
     "duration": 0.093837,
     "end_time": "2021-05-15T14:38:55.759527",
     "exception": false,
     "start_time": "2021-05-15T14:38:55.665690",
     "status": "completed"
    },
    "tags": []
   },
   "source": [
    "<font color='blue'>**HEAD(7) - First 7 rows**</font>"
   ]
  },
  {
   "cell_type": "code",
   "execution_count": 5,
   "id": "boring-desire",
   "metadata": {
    "execution": {
     "iopub.execute_input": "2021-05-15T14:38:55.952515Z",
     "iopub.status.busy": "2021-05-15T14:38:55.951897Z",
     "iopub.status.idle": "2021-05-15T14:38:55.955163Z",
     "shell.execute_reply": "2021-05-15T14:38:55.955667Z"
    },
    "papermill": {
     "duration": 0.101435,
     "end_time": "2021-05-15T14:38:55.955849",
     "exception": false,
     "start_time": "2021-05-15T14:38:55.854414",
     "status": "completed"
    },
    "tags": []
   },
   "outputs": [],
   "source": [
    "#data._____(__)"
   ]
  },
  {
   "cell_type": "markdown",
   "id": "contemporary-planning",
   "metadata": {
    "papermill": {
     "duration": 0.093956,
     "end_time": "2021-05-15T14:38:56.146142",
     "exception": false,
     "start_time": "2021-05-15T14:38:56.052186",
     "status": "completed"
    },
    "tags": []
   },
   "source": [
    "<font color='blue'>**TAIL(3) - Last 3 rows**</font>"
   ]
  },
  {
   "cell_type": "code",
   "execution_count": 6,
   "id": "christian-empty",
   "metadata": {
    "execution": {
     "iopub.execute_input": "2021-05-15T14:38:56.341128Z",
     "iopub.status.busy": "2021-05-15T14:38:56.340444Z",
     "iopub.status.idle": "2021-05-15T14:38:56.342866Z",
     "shell.execute_reply": "2021-05-15T14:38:56.343351Z"
    },
    "papermill": {
     "duration": 0.102782,
     "end_time": "2021-05-15T14:38:56.343528",
     "exception": false,
     "start_time": "2021-05-15T14:38:56.240746",
     "status": "completed"
    },
    "tags": []
   },
   "outputs": [],
   "source": [
    "#data._____(__)"
   ]
  },
  {
   "cell_type": "markdown",
   "id": "amino-pledge",
   "metadata": {
    "papermill": {
     "duration": 0.093848,
     "end_time": "2021-05-15T14:38:56.532587",
     "exception": false,
     "start_time": "2021-05-15T14:38:56.438739",
     "status": "completed"
    },
    "tags": []
   },
   "source": [
    "<font color='blue'>**SHAPE - rows x columns**</font>"
   ]
  },
  {
   "cell_type": "code",
   "execution_count": 7,
   "id": "separated-popularity",
   "metadata": {
    "execution": {
     "iopub.execute_input": "2021-05-15T14:38:56.732324Z",
     "iopub.status.busy": "2021-05-15T14:38:56.731583Z",
     "iopub.status.idle": "2021-05-15T14:38:56.735153Z",
     "shell.execute_reply": "2021-05-15T14:38:56.734500Z"
    },
    "papermill": {
     "duration": 0.105908,
     "end_time": "2021-05-15T14:38:56.735366",
     "exception": false,
     "start_time": "2021-05-15T14:38:56.629458",
     "status": "completed"
    },
    "tags": []
   },
   "outputs": [],
   "source": [
    "#data._____"
   ]
  },
  {
   "cell_type": "markdown",
   "id": "excellent-charge",
   "metadata": {
    "papermill": {
     "duration": 0.093556,
     "end_time": "2021-05-15T14:38:56.925324",
     "exception": false,
     "start_time": "2021-05-15T14:38:56.831768",
     "status": "completed"
    },
    "tags": []
   },
   "source": [
    "<font color='blue'>**SHAPE[0] - rows**</font>"
   ]
  },
  {
   "cell_type": "code",
   "execution_count": 8,
   "id": "normal-abuse",
   "metadata": {
    "execution": {
     "iopub.execute_input": "2021-05-15T14:38:57.120698Z",
     "iopub.status.busy": "2021-05-15T14:38:57.120029Z",
     "iopub.status.idle": "2021-05-15T14:38:57.123053Z",
     "shell.execute_reply": "2021-05-15T14:38:57.122471Z"
    },
    "papermill": {
     "duration": 0.102942,
     "end_time": "2021-05-15T14:38:57.123196",
     "exception": false,
     "start_time": "2021-05-15T14:38:57.020254",
     "status": "completed"
    },
    "tags": []
   },
   "outputs": [],
   "source": [
    "#data._____[__]"
   ]
  },
  {
   "cell_type": "markdown",
   "id": "ecological-chamber",
   "metadata": {
    "papermill": {
     "duration": 0.094175,
     "end_time": "2021-05-15T14:38:57.312297",
     "exception": false,
     "start_time": "2021-05-15T14:38:57.218122",
     "status": "completed"
    },
    "tags": []
   },
   "source": [
    "<font color='blue'>**SPLIT 0-2 -- Rows with indexes 0 to 2**</font>"
   ]
  },
  {
   "cell_type": "code",
   "execution_count": 9,
   "id": "saved-strike",
   "metadata": {
    "execution": {
     "iopub.execute_input": "2021-05-15T14:38:57.506781Z",
     "iopub.status.busy": "2021-05-15T14:38:57.506062Z",
     "iopub.status.idle": "2021-05-15T14:38:57.509520Z",
     "shell.execute_reply": "2021-05-15T14:38:57.508899Z"
    },
    "papermill": {
     "duration": 0.101285,
     "end_time": "2021-05-15T14:38:57.509686",
     "exception": false,
     "start_time": "2021-05-15T14:38:57.408401",
     "status": "completed"
    },
    "tags": []
   },
   "outputs": [],
   "source": [
    "#data[__:__]"
   ]
  },
  {
   "cell_type": "markdown",
   "id": "round-airport",
   "metadata": {
    "papermill": {
     "duration": 0.095297,
     "end_time": "2021-05-15T14:38:57.700050",
     "exception": false,
     "start_time": "2021-05-15T14:38:57.604753",
     "status": "completed"
    },
    "tags": []
   },
   "source": [
    "<font color='blue'>**SPLIT 3-7 -- Rows with indexes 3 to 7**</font>"
   ]
  },
  {
   "cell_type": "code",
   "execution_count": 10,
   "id": "excited-upper",
   "metadata": {
    "execution": {
     "iopub.execute_input": "2021-05-15T14:38:57.895076Z",
     "iopub.status.busy": "2021-05-15T14:38:57.894390Z",
     "iopub.status.idle": "2021-05-15T14:38:57.897088Z",
     "shell.execute_reply": "2021-05-15T14:38:57.897511Z"
    },
    "papermill": {
     "duration": 0.101863,
     "end_time": "2021-05-15T14:38:57.897709",
     "exception": false,
     "start_time": "2021-05-15T14:38:57.795846",
     "status": "completed"
    },
    "tags": []
   },
   "outputs": [],
   "source": [
    "#data[__:__]"
   ]
  },
  {
   "cell_type": "markdown",
   "id": "fluid-ending",
   "metadata": {
    "papermill": {
     "duration": 0.094635,
     "end_time": "2021-05-15T14:38:58.088347",
     "exception": false,
     "start_time": "2021-05-15T14:38:57.993712",
     "status": "completed"
    },
    "tags": []
   },
   "source": [
    "<font color='blue'>**SPLIT 5:0 -- Display rows with indexes 5 to 0 (reverse order)**</font>"
   ]
  },
  {
   "cell_type": "code",
   "execution_count": 11,
   "id": "detailed-worst",
   "metadata": {
    "execution": {
     "iopub.execute_input": "2021-05-15T14:38:58.282322Z",
     "iopub.status.busy": "2021-05-15T14:38:58.281624Z",
     "iopub.status.idle": "2021-05-15T14:38:58.285271Z",
     "shell.execute_reply": "2021-05-15T14:38:58.284603Z"
    },
    "papermill": {
     "duration": 0.102951,
     "end_time": "2021-05-15T14:38:58.285409",
     "exception": false,
     "start_time": "2021-05-15T14:38:58.182458",
     "status": "completed"
    },
    "tags": []
   },
   "outputs": [],
   "source": [
    "#data[__:__:__]"
   ]
  },
  {
   "cell_type": "markdown",
   "id": "figured-affiliate",
   "metadata": {
    "papermill": {
     "duration": 0.096946,
     "end_time": "2021-05-15T14:38:58.478345",
     "exception": false,
     "start_time": "2021-05-15T14:38:58.381399",
     "status": "completed"
    },
    "tags": []
   },
   "source": [
    "<font color='blue'>**SPLIT 1:7:2 -- Display rows with odd indexes from 1 to 7**</font>"
   ]
  },
  {
   "cell_type": "code",
   "execution_count": 12,
   "id": "dominican-motivation",
   "metadata": {
    "execution": {
     "iopub.execute_input": "2021-05-15T14:38:58.732774Z",
     "iopub.status.busy": "2021-05-15T14:38:58.731741Z",
     "iopub.status.idle": "2021-05-15T14:38:58.734676Z",
     "shell.execute_reply": "2021-05-15T14:38:58.734058Z"
    },
    "papermill": {
     "duration": 0.157282,
     "end_time": "2021-05-15T14:38:58.734811",
     "exception": false,
     "start_time": "2021-05-15T14:38:58.577529",
     "status": "completed"
    },
    "tags": []
   },
   "outputs": [],
   "source": [
    "#data[__:__:__]"
   ]
  },
  {
   "cell_type": "markdown",
   "id": "postal-package",
   "metadata": {
    "papermill": {
     "duration": 0.094559,
     "end_time": "2021-05-15T14:38:58.927069",
     "exception": false,
     "start_time": "2021-05-15T14:38:58.832510",
     "status": "completed"
    },
    "tags": []
   },
   "source": [
    "<font color='blue'>**Display names of the columns**</font>"
   ]
  },
  {
   "cell_type": "code",
   "execution_count": 13,
   "id": "greenhouse-speaker",
   "metadata": {
    "execution": {
     "iopub.execute_input": "2021-05-15T14:38:59.120571Z",
     "iopub.status.busy": "2021-05-15T14:38:59.119676Z",
     "iopub.status.idle": "2021-05-15T14:38:59.123183Z",
     "shell.execute_reply": "2021-05-15T14:38:59.123715Z"
    },
    "papermill": {
     "duration": 0.101575,
     "end_time": "2021-05-15T14:38:59.123888",
     "exception": false,
     "start_time": "2021-05-15T14:38:59.022313",
     "status": "completed"
    },
    "tags": []
   },
   "outputs": [],
   "source": [
    "#data._____"
   ]
  },
  {
   "cell_type": "markdown",
   "id": "white-monitor",
   "metadata": {
    "papermill": {
     "duration": 0.096663,
     "end_time": "2021-05-15T14:38:59.315886",
     "exception": false,
     "start_time": "2021-05-15T14:38:59.219223",
     "status": "completed"
    },
    "tags": []
   },
   "source": [
    "<font color='blue'>**Display EST column only (first 5 rows)**</font>"
   ]
  },
  {
   "cell_type": "code",
   "execution_count": 14,
   "id": "modular-birth",
   "metadata": {
    "execution": {
     "iopub.execute_input": "2021-05-15T14:38:59.510779Z",
     "iopub.status.busy": "2021-05-15T14:38:59.509797Z",
     "iopub.status.idle": "2021-05-15T14:38:59.513368Z",
     "shell.execute_reply": "2021-05-15T14:38:59.513833Z"
    },
    "papermill": {
     "duration": 0.102103,
     "end_time": "2021-05-15T14:38:59.514022",
     "exception": false,
     "start_time": "2021-05-15T14:38:59.411919",
     "status": "completed"
    },
    "tags": []
   },
   "outputs": [],
   "source": [
    "#data._____.head()"
   ]
  },
  {
   "cell_type": "markdown",
   "id": "dying-safety",
   "metadata": {
    "papermill": {
     "duration": 0.096101,
     "end_time": "2021-05-15T14:38:59.705277",
     "exception": false,
     "start_time": "2021-05-15T14:38:59.609176",
     "status": "completed"
    },
    "tags": []
   },
   "source": [
    "<font color='blue'>**Display Datatype of EST column**</font>"
   ]
  },
  {
   "cell_type": "code",
   "execution_count": 15,
   "id": "serious-immunology",
   "metadata": {
    "execution": {
     "iopub.execute_input": "2021-05-15T14:38:59.902204Z",
     "iopub.status.busy": "2021-05-15T14:38:59.901303Z",
     "iopub.status.idle": "2021-05-15T14:38:59.904595Z",
     "shell.execute_reply": "2021-05-15T14:38:59.905119Z"
    },
    "papermill": {
     "duration": 0.103235,
     "end_time": "2021-05-15T14:38:59.905291",
     "exception": false,
     "start_time": "2021-05-15T14:38:59.802056",
     "status": "completed"
    },
    "tags": []
   },
   "outputs": [],
   "source": [
    "#type(data._____)"
   ]
  },
  {
   "cell_type": "markdown",
   "id": "liable-copyright",
   "metadata": {
    "papermill": {
     "duration": 0.097044,
     "end_time": "2021-05-15T14:39:00.099603",
     "exception": false,
     "start_time": "2021-05-15T14:39:00.002559",
     "status": "completed"
    },
    "tags": []
   },
   "source": [
    "<font color='blue'>**Display EST and Temperature columns (first 5 rows)**</font>"
   ]
  },
  {
   "cell_type": "code",
   "execution_count": 16,
   "id": "burning-mention",
   "metadata": {
    "execution": {
     "iopub.execute_input": "2021-05-15T14:39:00.293892Z",
     "iopub.status.busy": "2021-05-15T14:39:00.292884Z",
     "iopub.status.idle": "2021-05-15T14:39:00.296446Z",
     "shell.execute_reply": "2021-05-15T14:39:00.296999Z"
    },
    "papermill": {
     "duration": 0.102626,
     "end_time": "2021-05-15T14:39:00.297172",
     "exception": false,
     "start_time": "2021-05-15T14:39:00.194546",
     "status": "completed"
    },
    "tags": []
   },
   "outputs": [],
   "source": [
    "#data[['_____', '_____']].head()"
   ]
  },
  {
   "cell_type": "markdown",
   "id": "innovative-scotland",
   "metadata": {
    "papermill": {
     "duration": 0.095337,
     "end_time": "2021-05-15T14:39:00.488486",
     "exception": false,
     "start_time": "2021-05-15T14:39:00.393149",
     "status": "completed"
    },
    "tags": []
   },
   "source": [
    "<font color='blue'>**Find the maximum Temperature**</font>"
   ]
  },
  {
   "cell_type": "code",
   "execution_count": 17,
   "id": "revised-parish",
   "metadata": {
    "execution": {
     "iopub.execute_input": "2021-05-15T14:39:00.684073Z",
     "iopub.status.busy": "2021-05-15T14:39:00.683410Z",
     "iopub.status.idle": "2021-05-15T14:39:00.686517Z",
     "shell.execute_reply": "2021-05-15T14:39:00.687018Z"
    },
    "papermill": {
     "duration": 0.103054,
     "end_time": "2021-05-15T14:39:00.687194",
     "exception": false,
     "start_time": "2021-05-15T14:39:00.584140",
     "status": "completed"
    },
    "tags": []
   },
   "outputs": [],
   "source": [
    "#data['Temperature'].max()"
   ]
  },
  {
   "cell_type": "markdown",
   "id": "internal-frost",
   "metadata": {
    "papermill": {
     "duration": 0.099855,
     "end_time": "2021-05-15T14:39:00.885284",
     "exception": false,
     "start_time": "2021-05-15T14:39:00.785429",
     "status": "completed"
    },
    "tags": []
   },
   "source": [
    "<font color='blue'>**Find the average(mean) value of WindSpeedMPH**</font>"
   ]
  },
  {
   "cell_type": "code",
   "execution_count": 18,
   "id": "fallen-landing",
   "metadata": {
    "execution": {
     "iopub.execute_input": "2021-05-15T14:39:01.086410Z",
     "iopub.status.busy": "2021-05-15T14:39:01.085768Z",
     "iopub.status.idle": "2021-05-15T14:39:01.090334Z",
     "shell.execute_reply": "2021-05-15T14:39:01.089690Z"
    },
    "papermill": {
     "duration": 0.107819,
     "end_time": "2021-05-15T14:39:01.090473",
     "exception": false,
     "start_time": "2021-05-15T14:39:00.982654",
     "status": "completed"
    },
    "tags": []
   },
   "outputs": [],
   "source": [
    "#data.WindSpeedMPH._____()"
   ]
  },
  {
   "cell_type": "markdown",
   "id": "delayed-output",
   "metadata": {
    "papermill": {
     "duration": 0.096566,
     "end_time": "2021-05-15T14:39:01.284487",
     "exception": false,
     "start_time": "2021-05-15T14:39:01.187921",
     "status": "completed"
    },
    "tags": []
   },
   "source": [
    "<font color='blue'>**EST column where EVENTS == \"RAIN\"**</font>"
   ]
  },
  {
   "cell_type": "code",
   "execution_count": 19,
   "id": "introductory-movement",
   "metadata": {
    "execution": {
     "iopub.execute_input": "2021-05-15T14:39:01.479430Z",
     "iopub.status.busy": "2021-05-15T14:39:01.478802Z",
     "iopub.status.idle": "2021-05-15T14:39:01.481845Z",
     "shell.execute_reply": "2021-05-15T14:39:01.482333Z"
    },
    "papermill": {
     "duration": 0.101493,
     "end_time": "2021-05-15T14:39:01.482506",
     "exception": false,
     "start_time": "2021-05-15T14:39:01.381013",
     "status": "completed"
    },
    "scrolled": true,
    "tags": []
   },
   "outputs": [],
   "source": [
    "#data['EST'][data['_____']=='_____']"
   ]
  },
  {
   "cell_type": "markdown",
   "id": "finnish-genealogy",
   "metadata": {
    "papermill": {
     "duration": 0.100075,
     "end_time": "2021-05-15T14:39:01.679224",
     "exception": false,
     "start_time": "2021-05-15T14:39:01.579149",
     "status": "completed"
    },
    "tags": []
   },
   "source": [
    "<font color='blue'>**Combining Columns**</font>"
   ]
  },
  {
   "cell_type": "markdown",
   "id": "german-waste",
   "metadata": {
    "papermill": {
     "duration": 0.097328,
     "end_time": "2021-05-15T14:39:01.875529",
     "exception": false,
     "start_time": "2021-05-15T14:39:01.778201",
     "status": "completed"
    },
    "tags": []
   },
   "source": [
    "<font color='blue'>*Column 1* (Temperature)</font>"
   ]
  },
  {
   "cell_type": "code",
   "execution_count": 20,
   "id": "offensive-income",
   "metadata": {
    "execution": {
     "iopub.execute_input": "2021-05-15T14:39:02.072990Z",
     "iopub.status.busy": "2021-05-15T14:39:02.072369Z",
     "iopub.status.idle": "2021-05-15T14:39:02.075593Z",
     "shell.execute_reply": "2021-05-15T14:39:02.076085Z"
    },
    "papermill": {
     "duration": 0.104513,
     "end_time": "2021-05-15T14:39:02.076266",
     "exception": false,
     "start_time": "2021-05-15T14:39:01.971753",
     "status": "completed"
    },
    "tags": []
   },
   "outputs": [],
   "source": [
    "#temp = data['_____']\n",
    "#temp.head()"
   ]
  },
  {
   "cell_type": "markdown",
   "id": "contemporary-palace",
   "metadata": {
    "papermill": {
     "duration": 0.095467,
     "end_time": "2021-05-15T14:39:02.268064",
     "exception": false,
     "start_time": "2021-05-15T14:39:02.172597",
     "status": "completed"
    },
    "tags": []
   },
   "source": [
    "<font color='blue'>*Column 2* (WindSpeedMPH)</font>"
   ]
  },
  {
   "cell_type": "code",
   "execution_count": 21,
   "id": "powered-image",
   "metadata": {
    "execution": {
     "iopub.execute_input": "2021-05-15T14:39:02.463794Z",
     "iopub.status.busy": "2021-05-15T14:39:02.462882Z",
     "iopub.status.idle": "2021-05-15T14:39:02.465960Z",
     "shell.execute_reply": "2021-05-15T14:39:02.466499Z"
    },
    "papermill": {
     "duration": 0.102977,
     "end_time": "2021-05-15T14:39:02.466690",
     "exception": false,
     "start_time": "2021-05-15T14:39:02.363713",
     "status": "completed"
    },
    "tags": []
   },
   "outputs": [],
   "source": [
    "#wind = data['_____']\n",
    "#wind.head()"
   ]
  },
  {
   "cell_type": "markdown",
   "id": "growing-objective",
   "metadata": {
    "papermill": {
     "duration": 0.098163,
     "end_time": "2021-05-15T14:39:02.664125",
     "exception": false,
     "start_time": "2021-05-15T14:39:02.565962",
     "status": "completed"
    },
    "tags": []
   },
   "source": [
    "<font color='blue'>*Combining columns 1 & 2* (temp and wind)</font>"
   ]
  },
  {
   "cell_type": "code",
   "execution_count": 22,
   "id": "technical-antique",
   "metadata": {
    "execution": {
     "iopub.execute_input": "2021-05-15T14:39:02.868243Z",
     "iopub.status.busy": "2021-05-15T14:39:02.867570Z",
     "iopub.status.idle": "2021-05-15T14:39:02.870699Z",
     "shell.execute_reply": "2021-05-15T14:39:02.871192Z"
    },
    "papermill": {
     "duration": 0.110031,
     "end_time": "2021-05-15T14:39:02.871402",
     "exception": false,
     "start_time": "2021-05-15T14:39:02.761371",
     "status": "completed"
    },
    "tags": []
   },
   "outputs": [],
   "source": [
    "#pd.concat([_____, _____], axis=1, keys=['Temperature', 'Windspeed']).head()"
   ]
  },
  {
   "cell_type": "markdown",
   "id": "exciting-broadway",
   "metadata": {
    "papermill": {
     "duration": 0.101366,
     "end_time": "2021-05-15T14:39:03.070382",
     "exception": false,
     "start_time": "2021-05-15T14:39:02.969016",
     "status": "completed"
    },
    "tags": []
   },
   "source": [
    "<font color='blue'>**Renaming the column names _'DewPoint'_ to _'dewpoint'_ and _'CloudCover'_ to _'cloudcover'_**</font>"
   ]
  },
  {
   "cell_type": "code",
   "execution_count": 23,
   "id": "bizarre-consensus",
   "metadata": {
    "execution": {
     "iopub.execute_input": "2021-05-15T14:39:03.274566Z",
     "iopub.status.busy": "2021-05-15T14:39:03.273911Z",
     "iopub.status.idle": "2021-05-15T14:39:03.277422Z",
     "shell.execute_reply": "2021-05-15T14:39:03.277957Z"
    },
    "papermill": {
     "duration": 0.106781,
     "end_time": "2021-05-15T14:39:03.278131",
     "exception": false,
     "start_time": "2021-05-15T14:39:03.171350",
     "status": "completed"
    },
    "tags": []
   },
   "outputs": [],
   "source": [
    "#data1 = data.rename(columns={'_____':'_____','_____':'_____'})\n",
    "#data1.head()"
   ]
  },
  {
   "cell_type": "markdown",
   "id": "juvenile-agency",
   "metadata": {
    "papermill": {
     "duration": 0.097039,
     "end_time": "2021-05-15T14:39:03.477083",
     "exception": false,
     "start_time": "2021-05-15T14:39:03.380044",
     "status": "completed"
    },
    "tags": []
   },
   "source": [
    "<font color='blue'>**Add addtional column \"HumDew\"**</font>"
   ]
  },
  {
   "cell_type": "markdown",
   "id": "brief-convert",
   "metadata": {
    "papermill": {
     "duration": 0.096068,
     "end_time": "2021-05-15T14:39:03.670442",
     "exception": false,
     "start_time": "2021-05-15T14:39:03.574374",
     "status": "completed"
    },
    "tags": []
   },
   "source": [
    "<font color='blue'>_Before addition of column HumDew_</font>"
   ]
  },
  {
   "cell_type": "code",
   "execution_count": 24,
   "id": "industrial-irrigation",
   "metadata": {
    "execution": {
     "iopub.execute_input": "2021-05-15T14:39:03.873174Z",
     "iopub.status.busy": "2021-05-15T14:39:03.872493Z",
     "iopub.status.idle": "2021-05-15T14:39:03.875729Z",
     "shell.execute_reply": "2021-05-15T14:39:03.876216Z"
    },
    "papermill": {
     "duration": 0.106722,
     "end_time": "2021-05-15T14:39:03.876495",
     "exception": false,
     "start_time": "2021-05-15T14:39:03.769773",
     "status": "completed"
    },
    "tags": []
   },
   "outputs": [],
   "source": [
    "#data.head()"
   ]
  },
  {
   "cell_type": "markdown",
   "id": "portable-model",
   "metadata": {
    "papermill": {
     "duration": 0.102317,
     "end_time": "2021-05-15T14:39:04.078107",
     "exception": false,
     "start_time": "2021-05-15T14:39:03.975790",
     "status": "completed"
    },
    "tags": []
   },
   "source": [
    "<font color='blue'>_Addition of HumDew column_ (HumDew = Humidity + DewPoint)</font>"
   ]
  },
  {
   "cell_type": "code",
   "execution_count": 25,
   "id": "academic-volume",
   "metadata": {
    "execution": {
     "iopub.execute_input": "2021-05-15T14:39:04.280683Z",
     "iopub.status.busy": "2021-05-15T14:39:04.279979Z",
     "iopub.status.idle": "2021-05-15T14:39:04.284245Z",
     "shell.execute_reply": "2021-05-15T14:39:04.284819Z"
    },
    "papermill": {
     "duration": 0.109293,
     "end_time": "2021-05-15T14:39:04.285011",
     "exception": false,
     "start_time": "2021-05-15T14:39:04.175718",
     "status": "completed"
    },
    "tags": []
   },
   "outputs": [],
   "source": [
    "#data['_____'] = data['_____'] + data['_____']\n",
    "#data.head()"
   ]
  },
  {
   "cell_type": "markdown",
   "id": "immune-distinction",
   "metadata": {
    "papermill": {
     "duration": 0.10518,
     "end_time": "2021-05-15T14:39:04.490435",
     "exception": false,
     "start_time": "2021-05-15T14:39:04.385255",
     "status": "completed"
    },
    "tags": []
   },
   "source": [
    "<font color='blue'>_After addition of column HumDew_</font>"
   ]
  },
  {
   "cell_type": "code",
   "execution_count": 26,
   "id": "residential-comment",
   "metadata": {
    "execution": {
     "iopub.execute_input": "2021-05-15T14:39:04.692525Z",
     "iopub.status.busy": "2021-05-15T14:39:04.691875Z",
     "iopub.status.idle": "2021-05-15T14:39:04.695651Z",
     "shell.execute_reply": "2021-05-15T14:39:04.695066Z"
    },
    "papermill": {
     "duration": 0.108405,
     "end_time": "2021-05-15T14:39:04.695797",
     "exception": false,
     "start_time": "2021-05-15T14:39:04.587392",
     "status": "completed"
    },
    "tags": []
   },
   "outputs": [],
   "source": [
    "#data.head()"
   ]
  },
  {
   "cell_type": "markdown",
   "id": "legislative-greece",
   "metadata": {
    "papermill": {
     "duration": 0.103953,
     "end_time": "2021-05-15T14:39:04.899489",
     "exception": false,
     "start_time": "2021-05-15T14:39:04.795536",
     "status": "completed"
    },
    "tags": []
   },
   "source": [
    "<font color='blue'>**Series and DataFrame**</font>"
   ]
  },
  {
   "cell_type": "code",
   "execution_count": 27,
   "id": "minor-moral",
   "metadata": {
    "execution": {
     "iopub.execute_input": "2021-05-15T14:39:05.108551Z",
     "iopub.status.busy": "2021-05-15T14:39:05.106760Z",
     "iopub.status.idle": "2021-05-15T14:39:05.111655Z",
     "shell.execute_reply": "2021-05-15T14:39:05.110966Z"
    },
    "papermill": {
     "duration": 0.112441,
     "end_time": "2021-05-15T14:39:05.111808",
     "exception": false,
     "start_time": "2021-05-15T14:39:04.999367",
     "status": "completed"
    },
    "tags": []
   },
   "outputs": [],
   "source": [
    "#print(type(data['Temperature']))\n",
    "#data['Temperature'].head()"
   ]
  },
  {
   "cell_type": "code",
   "execution_count": 28,
   "id": "minus-means",
   "metadata": {
    "execution": {
     "iopub.execute_input": "2021-05-15T14:39:05.328597Z",
     "iopub.status.busy": "2021-05-15T14:39:05.327887Z",
     "iopub.status.idle": "2021-05-15T14:39:05.332057Z",
     "shell.execute_reply": "2021-05-15T14:39:05.331217Z"
    },
    "papermill": {
     "duration": 0.119095,
     "end_time": "2021-05-15T14:39:05.332211",
     "exception": false,
     "start_time": "2021-05-15T14:39:05.213116",
     "status": "completed"
    },
    "tags": []
   },
   "outputs": [],
   "source": [
    "#print(type(data[['Temperature']]))\n",
    "#data['Temperature'].head()"
   ]
  },
  {
   "cell_type": "markdown",
   "id": "entertaining-heater",
   "metadata": {
    "papermill": {
     "duration": 0.101073,
     "end_time": "2021-05-15T14:39:05.536619",
     "exception": false,
     "start_time": "2021-05-15T14:39:05.435546",
     "status": "completed"
    },
    "tags": []
   },
   "source": [
    "<font color='blue'>**Find correlation** (corr)</font>"
   ]
  },
  {
   "cell_type": "code",
   "execution_count": 29,
   "id": "included-tribune",
   "metadata": {
    "execution": {
     "iopub.execute_input": "2021-05-15T14:39:05.745293Z",
     "iopub.status.busy": "2021-05-15T14:39:05.744589Z",
     "iopub.status.idle": "2021-05-15T14:39:05.747952Z",
     "shell.execute_reply": "2021-05-15T14:39:05.747388Z"
    },
    "papermill": {
     "duration": 0.108318,
     "end_time": "2021-05-15T14:39:05.748104",
     "exception": false,
     "start_time": "2021-05-15T14:39:05.639786",
     "status": "completed"
    },
    "tags": []
   },
   "outputs": [],
   "source": [
    "#data._____()"
   ]
  },
  {
   "cell_type": "markdown",
   "id": "mineral-termination",
   "metadata": {
    "papermill": {
     "duration": 0.099299,
     "end_time": "2021-05-15T14:39:05.952259",
     "exception": false,
     "start_time": "2021-05-15T14:39:05.852960",
     "status": "completed"
    },
    "tags": []
   },
   "source": [
    "<font color='blue'>**Display all the rows where \"Temperature\" > 40**</font>"
   ]
  },
  {
   "cell_type": "code",
   "execution_count": 30,
   "id": "australian-wrong",
   "metadata": {
    "execution": {
     "iopub.execute_input": "2021-05-15T14:39:06.157704Z",
     "iopub.status.busy": "2021-05-15T14:39:06.157034Z",
     "iopub.status.idle": "2021-05-15T14:39:06.160437Z",
     "shell.execute_reply": "2021-05-15T14:39:06.159816Z"
    },
    "papermill": {
     "duration": 0.106362,
     "end_time": "2021-05-15T14:39:06.160582",
     "exception": false,
     "start_time": "2021-05-15T14:39:06.054220",
     "status": "completed"
    },
    "tags": []
   },
   "outputs": [],
   "source": [
    "#data[data['_____'] > __]"
   ]
  },
  {
   "cell_type": "markdown",
   "id": "transparent-webmaster",
   "metadata": {
    "papermill": {
     "duration": 0.117202,
     "end_time": "2021-05-15T14:39:06.383076",
     "exception": false,
     "start_time": "2021-05-15T14:39:06.265874",
     "status": "completed"
    },
    "tags": []
   },
   "source": [
    "<font color='blue'>**Display the day where temperature is the maximum temperature**</font>"
   ]
  },
  {
   "cell_type": "code",
   "execution_count": 31,
   "id": "directed-brake",
   "metadata": {
    "execution": {
     "iopub.execute_input": "2021-05-15T14:39:06.596216Z",
     "iopub.status.busy": "2021-05-15T14:39:06.595353Z",
     "iopub.status.idle": "2021-05-15T14:39:06.597751Z",
     "shell.execute_reply": "2021-05-15T14:39:06.597166Z"
    },
    "papermill": {
     "duration": 0.105882,
     "end_time": "2021-05-15T14:39:06.597900",
     "exception": false,
     "start_time": "2021-05-15T14:39:06.492018",
     "status": "completed"
    },
    "tags": []
   },
   "outputs": [],
   "source": [
    "#data['___'][data['_____'] == data['_____'].max()]"
   ]
  },
  {
   "cell_type": "markdown",
   "id": "seven-threshold",
   "metadata": {
    "papermill": {
     "duration": 0.100184,
     "end_time": "2021-05-15T14:39:06.802263",
     "exception": false,
     "start_time": "2021-05-15T14:39:06.702079",
     "status": "completed"
    },
    "tags": []
   },
   "source": [
    "<font color='blue'>**Display the row where temperature is the maximum temperature**</font>"
   ]
  },
  {
   "cell_type": "code",
   "execution_count": 32,
   "id": "regular-resident",
   "metadata": {
    "execution": {
     "iopub.execute_input": "2021-05-15T14:39:07.012172Z",
     "iopub.status.busy": "2021-05-15T14:39:07.011513Z",
     "iopub.status.idle": "2021-05-15T14:39:07.013805Z",
     "shell.execute_reply": "2021-05-15T14:39:07.013185Z"
    },
    "papermill": {
     "duration": 0.107617,
     "end_time": "2021-05-15T14:39:07.013982",
     "exception": false,
     "start_time": "2021-05-15T14:39:06.906365",
     "status": "completed"
    },
    "tags": []
   },
   "outputs": [],
   "source": [
    "#data [ data['_____'] == data['____'].max()]"
   ]
  },
  {
   "cell_type": "markdown",
   "id": "musical-thanksgiving",
   "metadata": {
    "papermill": {
     "duration": 0.100635,
     "end_time": "2021-05-15T14:39:07.219003",
     "exception": false,
     "start_time": "2021-05-15T14:39:07.118368",
     "status": "completed"
    },
    "tags": []
   },
   "source": [
    "<font color='blue'>**Display standard deviation of Temperature**</font>"
   ]
  },
  {
   "cell_type": "code",
   "execution_count": 33,
   "id": "dressed-couple",
   "metadata": {
    "execution": {
     "iopub.execute_input": "2021-05-15T14:39:07.455950Z",
     "iopub.status.busy": "2021-05-15T14:39:07.454949Z",
     "iopub.status.idle": "2021-05-15T14:39:07.458355Z",
     "shell.execute_reply": "2021-05-15T14:39:07.457519Z"
    },
    "papermill": {
     "duration": 0.118681,
     "end_time": "2021-05-15T14:39:07.458554",
     "exception": false,
     "start_time": "2021-05-15T14:39:07.339873",
     "status": "completed"
    },
    "tags": []
   },
   "outputs": [],
   "source": [
    "#data['_____'].std()"
   ]
  },
  {
   "cell_type": "markdown",
   "id": "proud-prevention",
   "metadata": {
    "papermill": {
     "duration": 0.099699,
     "end_time": "2021-05-15T14:39:07.679949",
     "exception": false,
     "start_time": "2021-05-15T14:39:07.580250",
     "status": "completed"
    },
    "tags": []
   },
   "source": [
    "<font color='blue'>**Find basic statistics like count, mean, std. dev, min, max etc (only numerical fields)** - describe</font>"
   ]
  },
  {
   "cell_type": "code",
   "execution_count": 34,
   "id": "level-session",
   "metadata": {
    "execution": {
     "iopub.execute_input": "2021-05-15T14:39:07.886185Z",
     "iopub.status.busy": "2021-05-15T14:39:07.885497Z",
     "iopub.status.idle": "2021-05-15T14:39:07.888713Z",
     "shell.execute_reply": "2021-05-15T14:39:07.888150Z"
    },
    "papermill": {
     "duration": 0.106757,
     "end_time": "2021-05-15T14:39:07.888857",
     "exception": false,
     "start_time": "2021-05-15T14:39:07.782100",
     "status": "completed"
    },
    "tags": []
   },
   "outputs": [],
   "source": [
    "#data._____()"
   ]
  },
  {
   "cell_type": "markdown",
   "id": "reserved-protection",
   "metadata": {
    "papermill": {
     "duration": 0.09857,
     "end_time": "2021-05-15T14:39:08.089336",
     "exception": false,
     "start_time": "2021-05-15T14:39:07.990766",
     "status": "completed"
    },
    "tags": []
   },
   "source": [
    "<font color='blue'>**Find basic statistics like count, mean, std. dev, min, max etc (all fields)**</font>"
   ]
  },
  {
   "cell_type": "code",
   "execution_count": 35,
   "id": "standing-agreement",
   "metadata": {
    "execution": {
     "iopub.execute_input": "2021-05-15T14:39:08.288395Z",
     "iopub.status.busy": "2021-05-15T14:39:08.287779Z",
     "iopub.status.idle": "2021-05-15T14:39:08.290920Z",
     "shell.execute_reply": "2021-05-15T14:39:08.291458Z"
    },
    "papermill": {
     "duration": 0.10424,
     "end_time": "2021-05-15T14:39:08.291649",
     "exception": false,
     "start_time": "2021-05-15T14:39:08.187409",
     "status": "completed"
    },
    "tags": []
   },
   "outputs": [],
   "source": [
    "#data.describe(include='___')"
   ]
  },
  {
   "cell_type": "markdown",
   "id": "timely-roller",
   "metadata": {
    "papermill": {
     "duration": 0.096938,
     "end_time": "2021-05-15T14:39:08.487783",
     "exception": false,
     "start_time": "2021-05-15T14:39:08.390845",
     "status": "completed"
    },
    "tags": []
   },
   "source": [
    "<font color='blue'>**Find basic statistics like count, mean, std. dev, min, max etc (only Temperature column)**</font>"
   ]
  },
  {
   "cell_type": "code",
   "execution_count": 36,
   "id": "baking-planning",
   "metadata": {
    "execution": {
     "iopub.execute_input": "2021-05-15T14:39:08.685548Z",
     "iopub.status.busy": "2021-05-15T14:39:08.684943Z",
     "iopub.status.idle": "2021-05-15T14:39:08.688884Z",
     "shell.execute_reply": "2021-05-15T14:39:08.689316Z"
    },
    "papermill": {
     "duration": 0.104317,
     "end_time": "2021-05-15T14:39:08.689502",
     "exception": false,
     "start_time": "2021-05-15T14:39:08.585185",
     "status": "completed"
    },
    "tags": []
   },
   "outputs": [],
   "source": [
    "#data._____.describe()"
   ]
  },
  {
   "cell_type": "markdown",
   "id": "equivalent-waterproof",
   "metadata": {
    "papermill": {
     "duration": 0.099212,
     "end_time": "2021-05-15T14:39:08.886077",
     "exception": false,
     "start_time": "2021-05-15T14:39:08.786865",
     "status": "completed"
    },
    "tags": []
   },
   "source": [
    "<font color='blue'>**Make \"EST\" field as index column (temporarily) - first 5 rows**</font>"
   ]
  },
  {
   "cell_type": "code",
   "execution_count": 37,
   "id": "vocal-handy",
   "metadata": {
    "execution": {
     "iopub.execute_input": "2021-05-15T14:39:09.089615Z",
     "iopub.status.busy": "2021-05-15T14:39:09.088921Z",
     "iopub.status.idle": "2021-05-15T14:39:09.092427Z",
     "shell.execute_reply": "2021-05-15T14:39:09.092942Z"
    },
    "papermill": {
     "duration": 0.10637,
     "end_time": "2021-05-15T14:39:09.093109",
     "exception": false,
     "start_time": "2021-05-15T14:39:08.986739",
     "status": "completed"
    },
    "tags": []
   },
   "outputs": [],
   "source": [
    "#data.set_index('___').head()"
   ]
  },
  {
   "cell_type": "markdown",
   "id": "resistant-pathology",
   "metadata": {
    "papermill": {
     "duration": 0.098003,
     "end_time": "2021-05-15T14:39:09.289958",
     "exception": false,
     "start_time": "2021-05-15T14:39:09.191955",
     "status": "completed"
    },
    "tags": []
   },
   "source": [
    "<font color='blue'>_Confirm that index is not changed in the dataframe df_</font>"
   ]
  },
  {
   "cell_type": "code",
   "execution_count": 38,
   "id": "continued-darwin",
   "metadata": {
    "execution": {
     "iopub.execute_input": "2021-05-15T14:39:09.493058Z",
     "iopub.status.busy": "2021-05-15T14:39:09.492424Z",
     "iopub.status.idle": "2021-05-15T14:39:09.495599Z",
     "shell.execute_reply": "2021-05-15T14:39:09.496116Z"
    },
    "papermill": {
     "duration": 0.105512,
     "end_time": "2021-05-15T14:39:09.496299",
     "exception": false,
     "start_time": "2021-05-15T14:39:09.390787",
     "status": "completed"
    },
    "tags": []
   },
   "outputs": [],
   "source": [
    "#data.head()"
   ]
  },
  {
   "cell_type": "markdown",
   "id": "friendly-integer",
   "metadata": {
    "papermill": {
     "duration": 0.097681,
     "end_time": "2021-05-15T14:39:09.692281",
     "exception": false,
     "start_time": "2021-05-15T14:39:09.594600",
     "status": "completed"
    },
    "tags": []
   },
   "source": [
    "<font color='blue'>**Make \"EST\" field as index column (temporarily) - first 5 rows**</font>"
   ]
  },
  {
   "cell_type": "code",
   "execution_count": 39,
   "id": "durable-discharge",
   "metadata": {
    "execution": {
     "iopub.execute_input": "2021-05-15T14:39:09.894961Z",
     "iopub.status.busy": "2021-05-15T14:39:09.894325Z",
     "iopub.status.idle": "2021-05-15T14:39:09.897320Z",
     "shell.execute_reply": "2021-05-15T14:39:09.897823Z"
    },
    "papermill": {
     "duration": 0.106328,
     "end_time": "2021-05-15T14:39:09.897989",
     "exception": false,
     "start_time": "2021-05-15T14:39:09.791661",
     "status": "completed"
    },
    "tags": []
   },
   "outputs": [],
   "source": [
    "#data.set_index('___', inplace=True)"
   ]
  },
  {
   "cell_type": "markdown",
   "id": "democratic-drama",
   "metadata": {
    "papermill": {
     "duration": 0.100807,
     "end_time": "2021-05-15T14:39:10.097412",
     "exception": false,
     "start_time": "2021-05-15T14:39:09.996605",
     "status": "completed"
    },
    "tags": []
   },
   "source": [
    "<font color='green'>Confirm that index is changed in the dataframe df</font>"
   ]
  },
  {
   "cell_type": "code",
   "execution_count": 40,
   "id": "fleet-programming",
   "metadata": {
    "execution": {
     "iopub.execute_input": "2021-05-15T14:39:10.297542Z",
     "iopub.status.busy": "2021-05-15T14:39:10.296940Z",
     "iopub.status.idle": "2021-05-15T14:39:10.299890Z",
     "shell.execute_reply": "2021-05-15T14:39:10.300375Z"
    },
    "papermill": {
     "duration": 0.104112,
     "end_time": "2021-05-15T14:39:10.300540",
     "exception": false,
     "start_time": "2021-05-15T14:39:10.196428",
     "status": "completed"
    },
    "tags": []
   },
   "outputs": [],
   "source": [
    "#data.head()"
   ]
  },
  {
   "cell_type": "markdown",
   "id": "connected-wales",
   "metadata": {
    "papermill": {
     "duration": 0.099094,
     "end_time": "2021-05-15T14:39:10.501031",
     "exception": false,
     "start_time": "2021-05-15T14:39:10.401937",
     "status": "completed"
    },
    "tags": []
   },
   "source": [
    "<font color='blue'>**Display Index column elements**</font>"
   ]
  },
  {
   "cell_type": "code",
   "execution_count": 41,
   "id": "electrical-infrared",
   "metadata": {
    "execution": {
     "iopub.execute_input": "2021-05-15T14:39:10.704691Z",
     "iopub.status.busy": "2021-05-15T14:39:10.703991Z",
     "iopub.status.idle": "2021-05-15T14:39:10.707149Z",
     "shell.execute_reply": "2021-05-15T14:39:10.707648Z"
    },
    "papermill": {
     "duration": 0.10572,
     "end_time": "2021-05-15T14:39:10.707829",
     "exception": false,
     "start_time": "2021-05-15T14:39:10.602109",
     "status": "completed"
    },
    "tags": []
   },
   "outputs": [],
   "source": [
    "#data._____"
   ]
  },
  {
   "cell_type": "markdown",
   "id": "bigger-prison",
   "metadata": {
    "papermill": {
     "duration": 0.104765,
     "end_time": "2021-05-15T14:39:10.912551",
     "exception": false,
     "start_time": "2021-05-15T14:39:10.807786",
     "status": "completed"
    },
    "tags": []
   },
   "source": [
    "<font color='blue'>**Display row elements by Index name (one row)** - loc</font>"
   ]
  },
  {
   "cell_type": "code",
   "execution_count": 42,
   "id": "regional-somerset",
   "metadata": {
    "execution": {
     "iopub.execute_input": "2021-05-15T14:39:11.123624Z",
     "iopub.status.busy": "2021-05-15T14:39:11.122983Z",
     "iopub.status.idle": "2021-05-15T14:39:11.126375Z",
     "shell.execute_reply": "2021-05-15T14:39:11.126888Z"
    },
    "papermill": {
     "duration": 0.109604,
     "end_time": "2021-05-15T14:39:11.127059",
     "exception": false,
     "start_time": "2021-05-15T14:39:11.017455",
     "status": "completed"
    },
    "tags": []
   },
   "outputs": [],
   "source": [
    "#data.___['1/2/2016']"
   ]
  },
  {
   "cell_type": "markdown",
   "id": "champion-arctic",
   "metadata": {
    "papermill": {
     "duration": 0.100508,
     "end_time": "2021-05-15T14:39:11.328065",
     "exception": false,
     "start_time": "2021-05-15T14:39:11.227557",
     "status": "completed"
    },
    "tags": []
   },
   "source": [
    "<font color='blue'>**Display row elements by Index name (multiple rows)**</font>"
   ]
  },
  {
   "cell_type": "code",
   "execution_count": 43,
   "id": "vocal-touch",
   "metadata": {
    "execution": {
     "iopub.execute_input": "2021-05-15T14:39:11.532515Z",
     "iopub.status.busy": "2021-05-15T14:39:11.531896Z",
     "iopub.status.idle": "2021-05-15T14:39:11.535042Z",
     "shell.execute_reply": "2021-05-15T14:39:11.535562Z"
    },
    "papermill": {
     "duration": 0.105279,
     "end_time": "2021-05-15T14:39:11.535752",
     "exception": false,
     "start_time": "2021-05-15T14:39:11.430473",
     "status": "completed"
    },
    "tags": []
   },
   "outputs": [],
   "source": [
    "#data.___[['1/2/2016', '1/13/2016', '1/30/2016']]"
   ]
  },
  {
   "cell_type": "markdown",
   "id": "brief-identifier",
   "metadata": {
    "papermill": {
     "duration": 0.098676,
     "end_time": "2021-05-15T14:39:11.735658",
     "exception": false,
     "start_time": "2021-05-15T14:39:11.636982",
     "status": "completed"
    },
    "tags": []
   },
   "source": [
    "<font color='blue'>**Display row elements by Index _number_ (one row)** - iloc</font>"
   ]
  },
  {
   "cell_type": "code",
   "execution_count": 44,
   "id": "continent-encyclopedia",
   "metadata": {
    "execution": {
     "iopub.execute_input": "2021-05-15T14:39:11.944901Z",
     "iopub.status.busy": "2021-05-15T14:39:11.944196Z",
     "iopub.status.idle": "2021-05-15T14:39:11.947354Z",
     "shell.execute_reply": "2021-05-15T14:39:11.947882Z"
    },
    "papermill": {
     "duration": 0.112948,
     "end_time": "2021-05-15T14:39:11.948053",
     "exception": false,
     "start_time": "2021-05-15T14:39:11.835105",
     "status": "completed"
    },
    "tags": []
   },
   "outputs": [],
   "source": [
    "#data.___[2]"
   ]
  },
  {
   "cell_type": "markdown",
   "id": "frank-things",
   "metadata": {
    "papermill": {
     "duration": 0.100828,
     "end_time": "2021-05-15T14:39:12.150724",
     "exception": false,
     "start_time": "2021-05-15T14:39:12.049896",
     "status": "completed"
    },
    "tags": []
   },
   "source": [
    "<font color='blue'>**Display row elements by Index _number_ (multiple row)**</font>"
   ]
  },
  {
   "cell_type": "code",
   "execution_count": 45,
   "id": "likely-stevens",
   "metadata": {
    "execution": {
     "iopub.execute_input": "2021-05-15T14:39:12.353932Z",
     "iopub.status.busy": "2021-05-15T14:39:12.353216Z",
     "iopub.status.idle": "2021-05-15T14:39:12.356362Z",
     "shell.execute_reply": "2021-05-15T14:39:12.356869Z"
    },
    "papermill": {
     "duration": 0.106318,
     "end_time": "2021-05-15T14:39:12.357043",
     "exception": false,
     "start_time": "2021-05-15T14:39:12.250725",
     "status": "completed"
    },
    "tags": []
   },
   "outputs": [],
   "source": [
    "#data.___[[2,6,10]]"
   ]
  },
  {
   "cell_type": "markdown",
   "id": "interracial-check",
   "metadata": {
    "papermill": {
     "duration": 0.098607,
     "end_time": "2021-05-15T14:39:12.557130",
     "exception": false,
     "start_time": "2021-05-15T14:39:12.458523",
     "status": "completed"
    },
    "tags": []
   },
   "source": [
    "<font color='blue'>**Reset index to default**</font>"
   ]
  },
  {
   "cell_type": "code",
   "execution_count": 46,
   "id": "significant-czech",
   "metadata": {
    "execution": {
     "iopub.execute_input": "2021-05-15T14:39:12.759530Z",
     "iopub.status.busy": "2021-05-15T14:39:12.758939Z",
     "iopub.status.idle": "2021-05-15T14:39:12.762991Z",
     "shell.execute_reply": "2021-05-15T14:39:12.762434Z"
    },
    "papermill": {
     "duration": 0.106083,
     "end_time": "2021-05-15T14:39:12.763137",
     "exception": false,
     "start_time": "2021-05-15T14:39:12.657054",
     "status": "completed"
    },
    "tags": []
   },
   "outputs": [],
   "source": [
    "#data.reset_index(inplace=True)"
   ]
  },
  {
   "cell_type": "markdown",
   "id": "written-backing",
   "metadata": {
    "papermill": {
     "duration": 0.102957,
     "end_time": "2021-05-15T14:39:12.965958",
     "exception": false,
     "start_time": "2021-05-15T14:39:12.863001",
     "status": "completed"
    },
    "tags": []
   },
   "source": [
    "<font color='blue'>_Confirm index is reset to default_</font>"
   ]
  },
  {
   "cell_type": "code",
   "execution_count": 47,
   "id": "continuing-house",
   "metadata": {
    "execution": {
     "iopub.execute_input": "2021-05-15T14:39:13.179942Z",
     "iopub.status.busy": "2021-05-15T14:39:13.178968Z",
     "iopub.status.idle": "2021-05-15T14:39:13.182782Z",
     "shell.execute_reply": "2021-05-15T14:39:13.183332Z"
    },
    "papermill": {
     "duration": 0.111244,
     "end_time": "2021-05-15T14:39:13.183498",
     "exception": false,
     "start_time": "2021-05-15T14:39:13.072254",
     "status": "completed"
    },
    "tags": []
   },
   "outputs": [],
   "source": [
    "#data.head()"
   ]
  },
  {
   "cell_type": "markdown",
   "id": "specific-newton",
   "metadata": {
    "papermill": {
     "duration": 0.103954,
     "end_time": "2021-05-15T14:39:13.389676",
     "exception": false,
     "start_time": "2021-05-15T14:39:13.285722",
     "status": "completed"
    },
    "tags": []
   },
   "source": [
    "<font color='blue'>**Replace the column value with different value (temporary) - Replace \"Rain\" with \"Rainy\" in \"Events\" column**</font>"
   ]
  },
  {
   "cell_type": "code",
   "execution_count": 48,
   "id": "tracked-stadium",
   "metadata": {
    "execution": {
     "iopub.execute_input": "2021-05-15T14:39:13.598903Z",
     "iopub.status.busy": "2021-05-15T14:39:13.598237Z",
     "iopub.status.idle": "2021-05-15T14:39:13.600319Z",
     "shell.execute_reply": "2021-05-15T14:39:13.600795Z"
    },
    "papermill": {
     "duration": 0.107088,
     "end_time": "2021-05-15T14:39:13.600977",
     "exception": false,
     "start_time": "2021-05-15T14:39:13.493889",
     "status": "completed"
    },
    "tags": []
   },
   "outputs": [],
   "source": [
    "#data['_____'].replace('_____', '_____').head(10)"
   ]
  },
  {
   "cell_type": "markdown",
   "id": "cultural-material",
   "metadata": {
    "papermill": {
     "duration": 0.102111,
     "end_time": "2021-05-15T14:39:13.806034",
     "exception": false,
     "start_time": "2021-05-15T14:39:13.703923",
     "status": "completed"
    },
    "tags": []
   },
   "source": [
    "<font color='blue'>_Confirm index changes are not permanent(temporary)_</font>"
   ]
  },
  {
   "cell_type": "code",
   "execution_count": 49,
   "id": "boxed-waters",
   "metadata": {
    "execution": {
     "iopub.execute_input": "2021-05-15T14:39:14.014258Z",
     "iopub.status.busy": "2021-05-15T14:39:14.013565Z",
     "iopub.status.idle": "2021-05-15T14:39:14.016679Z",
     "shell.execute_reply": "2021-05-15T14:39:14.017185Z"
    },
    "papermill": {
     "duration": 0.110778,
     "end_time": "2021-05-15T14:39:14.017369",
     "exception": false,
     "start_time": "2021-05-15T14:39:13.906591",
     "status": "completed"
    },
    "tags": []
   },
   "outputs": [],
   "source": [
    "#data.head()"
   ]
  },
  {
   "cell_type": "markdown",
   "id": "unable-monitoring",
   "metadata": {
    "papermill": {
     "duration": 0.100511,
     "end_time": "2021-05-15T14:39:14.219071",
     "exception": false,
     "start_time": "2021-05-15T14:39:14.118560",
     "status": "completed"
    },
    "tags": []
   },
   "source": [
    "<font color='blue'>**Replace the column value with different value (permanent) - Replace \"Rain\" with \"Rainy\" in \"Events\" column**</font>"
   ]
  },
  {
   "cell_type": "code",
   "execution_count": 50,
   "id": "reported-aaron",
   "metadata": {
    "execution": {
     "iopub.execute_input": "2021-05-15T14:39:14.425994Z",
     "iopub.status.busy": "2021-05-15T14:39:14.425356Z",
     "iopub.status.idle": "2021-05-15T14:39:14.428243Z",
     "shell.execute_reply": "2021-05-15T14:39:14.428701Z"
    },
    "papermill": {
     "duration": 0.108962,
     "end_time": "2021-05-15T14:39:14.428878",
     "exception": false,
     "start_time": "2021-05-15T14:39:14.319916",
     "status": "completed"
    },
    "tags": []
   },
   "outputs": [],
   "source": [
    "#data['_____'].replace('_____', '_____', inplace = True)"
   ]
  },
  {
   "cell_type": "code",
   "execution_count": 51,
   "id": "arabic-cruise",
   "metadata": {
    "execution": {
     "iopub.execute_input": "2021-05-15T14:39:14.636560Z",
     "iopub.status.busy": "2021-05-15T14:39:14.635912Z",
     "iopub.status.idle": "2021-05-15T14:39:14.639090Z",
     "shell.execute_reply": "2021-05-15T14:39:14.640037Z"
    },
    "papermill": {
     "duration": 0.108369,
     "end_time": "2021-05-15T14:39:14.640281",
     "exception": false,
     "start_time": "2021-05-15T14:39:14.531912",
     "status": "completed"
    },
    "tags": []
   },
   "outputs": [],
   "source": [
    "#data.Events.head(10)"
   ]
  },
  {
   "cell_type": "code",
   "execution_count": 52,
   "id": "suffering-cyprus",
   "metadata": {
    "execution": {
     "iopub.execute_input": "2021-05-15T14:39:14.850578Z",
     "iopub.status.busy": "2021-05-15T14:39:14.849935Z",
     "iopub.status.idle": "2021-05-15T14:39:14.852998Z",
     "shell.execute_reply": "2021-05-15T14:39:14.853467Z"
    },
    "papermill": {
     "duration": 0.105814,
     "end_time": "2021-05-15T14:39:14.853662",
     "exception": false,
     "start_time": "2021-05-15T14:39:14.747848",
     "status": "completed"
    },
    "tags": []
   },
   "outputs": [],
   "source": [
    "#data.info()"
   ]
  },
  {
   "cell_type": "markdown",
   "id": "experimental-atlantic",
   "metadata": {
    "papermill": {
     "duration": 0.101492,
     "end_time": "2021-05-15T14:39:15.057731",
     "exception": false,
     "start_time": "2021-05-15T14:39:14.956239",
     "status": "completed"
    },
    "tags": []
   },
   "source": [
    "<font color='blue'>**Find the count of each Event**</font>"
   ]
  },
  {
   "cell_type": "code",
   "execution_count": 53,
   "id": "remarkable-cancer",
   "metadata": {
    "execution": {
     "iopub.execute_input": "2021-05-15T14:39:15.268919Z",
     "iopub.status.busy": "2021-05-15T14:39:15.268281Z",
     "iopub.status.idle": "2021-05-15T14:39:15.271405Z",
     "shell.execute_reply": "2021-05-15T14:39:15.271873Z"
    },
    "papermill": {
     "duration": 0.112528,
     "end_time": "2021-05-15T14:39:15.272050",
     "exception": false,
     "start_time": "2021-05-15T14:39:15.159522",
     "status": "completed"
    },
    "tags": []
   },
   "outputs": [],
   "source": [
    "#data._____.value_counts()"
   ]
  },
  {
   "cell_type": "markdown",
   "id": "happy-relative",
   "metadata": {
    "papermill": {
     "duration": 0.100491,
     "end_time": "2021-05-15T14:39:15.476794",
     "exception": false,
     "start_time": "2021-05-15T14:39:15.376303",
     "status": "completed"
    },
    "tags": []
   },
   "source": [
    "<font color='blue'>**Find the count of each Event including Null values**</font>"
   ]
  },
  {
   "cell_type": "code",
   "execution_count": 54,
   "id": "spread-hughes",
   "metadata": {
    "execution": {
     "iopub.execute_input": "2021-05-15T14:39:15.683772Z",
     "iopub.status.busy": "2021-05-15T14:39:15.683079Z",
     "iopub.status.idle": "2021-05-15T14:39:15.686864Z",
     "shell.execute_reply": "2021-05-15T14:39:15.687389Z"
    },
    "papermill": {
     "duration": 0.108975,
     "end_time": "2021-05-15T14:39:15.687579",
     "exception": false,
     "start_time": "2021-05-15T14:39:15.578604",
     "status": "completed"
    },
    "tags": []
   },
   "outputs": [],
   "source": [
    "#data['____'].value_counts(dropna=False)"
   ]
  },
  {
   "cell_type": "markdown",
   "id": "adjacent-bikini",
   "metadata": {
    "papermill": {
     "duration": 0.103219,
     "end_time": "2021-05-15T14:39:15.893350",
     "exception": false,
     "start_time": "2021-05-15T14:39:15.790131",
     "status": "completed"
    },
    "tags": []
   },
   "source": [
    "<font color='blue'>**Find the unique values in the \"Events\" and \"VisibilityMiles\" column**</font>"
   ]
  },
  {
   "cell_type": "code",
   "execution_count": 55,
   "id": "nervous-letter",
   "metadata": {
    "execution": {
     "iopub.execute_input": "2021-05-15T14:39:16.101989Z",
     "iopub.status.busy": "2021-05-15T14:39:16.101353Z",
     "iopub.status.idle": "2021-05-15T14:39:16.104663Z",
     "shell.execute_reply": "2021-05-15T14:39:16.105166Z"
    },
    "papermill": {
     "duration": 0.107807,
     "end_time": "2021-05-15T14:39:16.105338",
     "exception": false,
     "start_time": "2021-05-15T14:39:15.997531",
     "status": "completed"
    },
    "tags": []
   },
   "outputs": [],
   "source": [
    "#data['_____'].unique()"
   ]
  },
  {
   "cell_type": "code",
   "execution_count": 56,
   "id": "excellent-tractor",
   "metadata": {
    "execution": {
     "iopub.execute_input": "2021-05-15T14:39:16.314229Z",
     "iopub.status.busy": "2021-05-15T14:39:16.313217Z",
     "iopub.status.idle": "2021-05-15T14:39:16.317122Z",
     "shell.execute_reply": "2021-05-15T14:39:16.317752Z"
    },
    "papermill": {
     "duration": 0.110903,
     "end_time": "2021-05-15T14:39:16.317929",
     "exception": false,
     "start_time": "2021-05-15T14:39:16.207026",
     "status": "completed"
    },
    "tags": []
   },
   "outputs": [],
   "source": [
    "#data['_____'].unique()"
   ]
  },
  {
   "cell_type": "markdown",
   "id": "tropical-irish",
   "metadata": {
    "papermill": {
     "duration": 0.101628,
     "end_time": "2021-05-15T14:39:16.522787",
     "exception": false,
     "start_time": "2021-05-15T14:39:16.421159",
     "status": "completed"
    },
    "tags": []
   },
   "source": [
    "<font color='blue'>**Slicing rows and columns ('EST' and 'DewPoint')**</font>"
   ]
  },
  {
   "cell_type": "code",
   "execution_count": 57,
   "id": "certain-nerve",
   "metadata": {
    "execution": {
     "iopub.execute_input": "2021-05-15T14:39:16.731337Z",
     "iopub.status.busy": "2021-05-15T14:39:16.730680Z",
     "iopub.status.idle": "2021-05-15T14:39:16.734019Z",
     "shell.execute_reply": "2021-05-15T14:39:16.733337Z"
    },
    "papermill": {
     "duration": 0.109846,
     "end_time": "2021-05-15T14:39:16.734166",
     "exception": false,
     "start_time": "2021-05-15T14:39:16.624320",
     "status": "completed"
    },
    "tags": []
   },
   "outputs": [],
   "source": [
    "#data.loc[1:5,'_____':'_____']"
   ]
  },
  {
   "cell_type": "markdown",
   "id": "ranging-worship",
   "metadata": {
    "papermill": {
     "duration": 0.104281,
     "end_time": "2021-05-15T14:39:16.940117",
     "exception": false,
     "start_time": "2021-05-15T14:39:16.835836",
     "status": "completed"
    },
    "tags": []
   },
   "source": [
    "<font color='blue'>**Combining Filters**</font>"
   ]
  },
  {
   "cell_type": "markdown",
   "id": "quarterly-america",
   "metadata": {
    "papermill": {
     "duration": 0.104185,
     "end_time": "2021-05-15T14:39:17.145720",
     "exception": false,
     "start_time": "2021-05-15T14:39:17.041535",
     "status": "completed"
    },
    "tags": []
   },
   "source": [
    "<font color='blue'>_Temperature > 36 and < 40_</font>"
   ]
  },
  {
   "cell_type": "code",
   "execution_count": 58,
   "id": "median-myanmar",
   "metadata": {
    "execution": {
     "iopub.execute_input": "2021-05-15T14:39:17.365022Z",
     "iopub.status.busy": "2021-05-15T14:39:17.363266Z",
     "iopub.status.idle": "2021-05-15T14:39:17.368541Z",
     "shell.execute_reply": "2021-05-15T14:39:17.369473Z"
    },
    "papermill": {
     "duration": 0.12168,
     "end_time": "2021-05-15T14:39:17.369759",
     "exception": false,
     "start_time": "2021-05-15T14:39:17.248079",
     "status": "completed"
    },
    "tags": []
   },
   "outputs": [],
   "source": [
    "#data[(data['_____']> __) & (data['_____'] < __)]"
   ]
  },
  {
   "cell_type": "markdown",
   "id": "parallel-specialist",
   "metadata": {
    "papermill": {
     "duration": 0.102079,
     "end_time": "2021-05-15T14:39:17.588786",
     "exception": false,
     "start_time": "2021-05-15T14:39:17.486707",
     "status": "completed"
    },
    "tags": []
   },
   "source": [
    "<font color='blue'>_Temperature > 45 and Events =='Rain'_</font>"
   ]
  },
  {
   "cell_type": "code",
   "execution_count": 59,
   "id": "described-tribute",
   "metadata": {
    "execution": {
     "iopub.execute_input": "2021-05-15T14:39:17.794079Z",
     "iopub.status.busy": "2021-05-15T14:39:17.793424Z",
     "iopub.status.idle": "2021-05-15T14:39:17.796278Z",
     "shell.execute_reply": "2021-05-15T14:39:17.796770Z"
    },
    "papermill": {
     "duration": 0.107315,
     "end_time": "2021-05-15T14:39:17.796940",
     "exception": false,
     "start_time": "2021-05-15T14:39:17.689625",
     "status": "completed"
    },
    "tags": []
   },
   "outputs": [],
   "source": [
    "#data[(data['_____']> __) & (data['_____'] == '_____')]"
   ]
  },
  {
   "cell_type": "markdown",
   "id": "resident-candidate",
   "metadata": {
    "papermill": {
     "duration": 0.10296,
     "end_time": "2021-05-15T14:39:18.002363",
     "exception": false,
     "start_time": "2021-05-15T14:39:17.899403",
     "status": "completed"
    },
    "tags": []
   },
   "source": [
    "# Dealing with Null Values"
   ]
  },
  {
   "cell_type": "markdown",
   "id": "parallel-assets",
   "metadata": {
    "papermill": {
     "duration": 0.101604,
     "end_time": "2021-05-15T14:39:18.206411",
     "exception": false,
     "start_time": "2021-05-15T14:39:18.104807",
     "status": "completed"
    },
    "tags": []
   },
   "source": [
    "<font color='blue'>**Find count of null values for each field**</font>"
   ]
  },
  {
   "cell_type": "code",
   "execution_count": 60,
   "id": "unknown-raleigh",
   "metadata": {
    "execution": {
     "iopub.execute_input": "2021-05-15T14:39:18.415072Z",
     "iopub.status.busy": "2021-05-15T14:39:18.414454Z",
     "iopub.status.idle": "2021-05-15T14:39:18.417257Z",
     "shell.execute_reply": "2021-05-15T14:39:18.417737Z"
    },
    "papermill": {
     "duration": 0.108528,
     "end_time": "2021-05-15T14:39:18.417908",
     "exception": false,
     "start_time": "2021-05-15T14:39:18.309380",
     "status": "completed"
    },
    "tags": []
   },
   "outputs": [],
   "source": [
    "#data.isnull().sum()"
   ]
  },
  {
   "cell_type": "markdown",
   "id": "every-rhythm",
   "metadata": {
    "papermill": {
     "duration": 0.100807,
     "end_time": "2021-05-15T14:39:18.619197",
     "exception": false,
     "start_time": "2021-05-15T14:39:18.518390",
     "status": "completed"
    },
    "tags": []
   },
   "source": [
    "<font color='blue'>**Find the rows which have null values for the field WindSpeedMPH**</font>"
   ]
  },
  {
   "cell_type": "code",
   "execution_count": 61,
   "id": "devoted-graphics",
   "metadata": {
    "execution": {
     "iopub.execute_input": "2021-05-15T14:39:18.824016Z",
     "iopub.status.busy": "2021-05-15T14:39:18.823388Z",
     "iopub.status.idle": "2021-05-15T14:39:18.826471Z",
     "shell.execute_reply": "2021-05-15T14:39:18.826924Z"
    },
    "papermill": {
     "duration": 0.10734,
     "end_time": "2021-05-15T14:39:18.827093",
     "exception": false,
     "start_time": "2021-05-15T14:39:18.719753",
     "status": "completed"
    },
    "tags": []
   },
   "outputs": [],
   "source": [
    "#data[data['_____'].isnull()]"
   ]
  },
  {
   "cell_type": "markdown",
   "id": "touched-ambassador",
   "metadata": {
    "papermill": {
     "duration": 0.10359,
     "end_time": "2021-05-15T14:39:19.032446",
     "exception": false,
     "start_time": "2021-05-15T14:39:18.928856",
     "status": "completed"
    },
    "tags": []
   },
   "source": [
    "<font color='blue'>**Find the rows which have null values for the field Events**</font>"
   ]
  },
  {
   "cell_type": "code",
   "execution_count": 62,
   "id": "incomplete-blank",
   "metadata": {
    "execution": {
     "iopub.execute_input": "2021-05-15T14:39:19.238110Z",
     "iopub.status.busy": "2021-05-15T14:39:19.237481Z",
     "iopub.status.idle": "2021-05-15T14:39:19.240387Z",
     "shell.execute_reply": "2021-05-15T14:39:19.240854Z"
    },
    "papermill": {
     "duration": 0.106418,
     "end_time": "2021-05-15T14:39:19.241022",
     "exception": false,
     "start_time": "2021-05-15T14:39:19.134604",
     "status": "completed"
    },
    "tags": []
   },
   "outputs": [],
   "source": [
    "#data[data['_____'].isnull()]"
   ]
  },
  {
   "cell_type": "markdown",
   "id": "agricultural-probe",
   "metadata": {
    "papermill": {
     "duration": 0.100891,
     "end_time": "2021-05-15T14:39:19.442834",
     "exception": false,
     "start_time": "2021-05-15T14:39:19.341943",
     "status": "completed"
    },
    "tags": []
   },
   "source": [
    "<font color='blue'>**ROWS with NULL value in WindSpeedMPH and Events column**</font>"
   ]
  },
  {
   "cell_type": "code",
   "execution_count": 63,
   "id": "studied-august",
   "metadata": {
    "execution": {
     "iopub.execute_input": "2021-05-15T14:39:19.649807Z",
     "iopub.status.busy": "2021-05-15T14:39:19.649170Z",
     "iopub.status.idle": "2021-05-15T14:39:19.652142Z",
     "shell.execute_reply": "2021-05-15T14:39:19.652589Z"
    },
    "papermill": {
     "duration": 0.106817,
     "end_time": "2021-05-15T14:39:19.652788",
     "exception": false,
     "start_time": "2021-05-15T14:39:19.545971",
     "status": "completed"
    },
    "tags": []
   },
   "outputs": [],
   "source": [
    "#data[data._____.isnull() & data._____.isnull()]"
   ]
  },
  {
   "cell_type": "markdown",
   "id": "checked-assault",
   "metadata": {
    "papermill": {
     "duration": 0.101513,
     "end_time": "2021-05-15T14:39:19.856255",
     "exception": false,
     "start_time": "2021-05-15T14:39:19.754742",
     "status": "completed"
    },
    "tags": []
   },
   "source": [
    "<font color='blue'>**Fill the null values with zero**</font>"
   ]
  },
  {
   "cell_type": "code",
   "execution_count": 64,
   "id": "little-maple",
   "metadata": {
    "execution": {
     "iopub.execute_input": "2021-05-15T14:39:20.065766Z",
     "iopub.status.busy": "2021-05-15T14:39:20.065120Z",
     "iopub.status.idle": "2021-05-15T14:39:20.068104Z",
     "shell.execute_reply": "2021-05-15T14:39:20.068558Z"
    },
    "papermill": {
     "duration": 0.109699,
     "end_time": "2021-05-15T14:39:20.068747",
     "exception": false,
     "start_time": "2021-05-15T14:39:19.959048",
     "status": "completed"
    },
    "tags": []
   },
   "outputs": [],
   "source": [
    "#data.fillna(0)"
   ]
  },
  {
   "cell_type": "markdown",
   "id": "fifth-breathing",
   "metadata": {
    "papermill": {
     "duration": 0.100566,
     "end_time": "2021-05-15T14:39:20.310907",
     "exception": false,
     "start_time": "2021-05-15T14:39:20.210341",
     "status": "completed"
    },
    "tags": []
   },
   "source": [
    "<font color='blue'>**DROP the ROWS IF ANY column has NULL value**</font>"
   ]
  },
  {
   "cell_type": "code",
   "execution_count": 65,
   "id": "continued-collection",
   "metadata": {
    "execution": {
     "iopub.execute_input": "2021-05-15T14:39:20.517819Z",
     "iopub.status.busy": "2021-05-15T14:39:20.517180Z",
     "iopub.status.idle": "2021-05-15T14:39:20.521294Z",
     "shell.execute_reply": "2021-05-15T14:39:20.520674Z"
    },
    "papermill": {
     "duration": 0.108484,
     "end_time": "2021-05-15T14:39:20.521430",
     "exception": false,
     "start_time": "2021-05-15T14:39:20.412946",
     "status": "completed"
    },
    "tags": []
   },
   "outputs": [],
   "source": [
    "#data1 = data.dropna()\n",
    "#data1"
   ]
  },
  {
   "cell_type": "code",
   "execution_count": 66,
   "id": "cooked-cotton",
   "metadata": {
    "execution": {
     "iopub.execute_input": "2021-05-15T14:39:20.731107Z",
     "iopub.status.busy": "2021-05-15T14:39:20.730241Z",
     "iopub.status.idle": "2021-05-15T14:39:20.733132Z",
     "shell.execute_reply": "2021-05-15T14:39:20.732487Z"
    },
    "papermill": {
     "duration": 0.108806,
     "end_time": "2021-05-15T14:39:20.733273",
     "exception": false,
     "start_time": "2021-05-15T14:39:20.624467",
     "status": "completed"
    },
    "tags": []
   },
   "outputs": [],
   "source": [
    "#data.shape"
   ]
  },
  {
   "cell_type": "markdown",
   "id": "developmental-command",
   "metadata": {
    "papermill": {
     "duration": 0.101195,
     "end_time": "2021-05-15T14:39:20.938098",
     "exception": false,
     "start_time": "2021-05-15T14:39:20.836903",
     "status": "completed"
    },
    "tags": []
   },
   "source": [
    "<font color='blue'>_Confirm that null values are removed_</font>"
   ]
  },
  {
   "cell_type": "code",
   "execution_count": 67,
   "id": "intensive-degree",
   "metadata": {
    "execution": {
     "iopub.execute_input": "2021-05-15T14:39:21.154378Z",
     "iopub.status.busy": "2021-05-15T14:39:21.153376Z",
     "iopub.status.idle": "2021-05-15T14:39:21.156285Z",
     "shell.execute_reply": "2021-05-15T14:39:21.155799Z"
    },
    "papermill": {
     "duration": 0.11323,
     "end_time": "2021-05-15T14:39:21.156424",
     "exception": false,
     "start_time": "2021-05-15T14:39:21.043194",
     "status": "completed"
    },
    "tags": []
   },
   "outputs": [],
   "source": [
    "#data.isnull().sum()"
   ]
  },
  {
   "cell_type": "markdown",
   "id": "elect-hartford",
   "metadata": {
    "papermill": {
     "duration": 0.102161,
     "end_time": "2021-05-15T14:39:21.360293",
     "exception": false,
     "start_time": "2021-05-15T14:39:21.258132",
     "status": "completed"
    },
    "tags": []
   },
   "source": [
    "<font color='blue'>**Import pandas and numpy package**</font>"
   ]
  },
  {
   "cell_type": "code",
   "execution_count": 68,
   "id": "behind-optics",
   "metadata": {
    "execution": {
     "iopub.execute_input": "2021-05-15T14:39:21.569717Z",
     "iopub.status.busy": "2021-05-15T14:39:21.568767Z",
     "iopub.status.idle": "2021-05-15T14:39:21.572015Z",
     "shell.execute_reply": "2021-05-15T14:39:21.571507Z"
    },
    "papermill": {
     "duration": 0.109708,
     "end_time": "2021-05-15T14:39:21.572156",
     "exception": false,
     "start_time": "2021-05-15T14:39:21.462448",
     "status": "completed"
    },
    "tags": []
   },
   "outputs": [],
   "source": [
    "#import pandas as pd\n",
    "#import numpy as np"
   ]
  },
  {
   "cell_type": "markdown",
   "id": "republican-chile",
   "metadata": {
    "papermill": {
     "duration": 0.102504,
     "end_time": "2021-05-15T14:39:21.776732",
     "exception": false,
     "start_time": "2021-05-15T14:39:21.674228",
     "status": "completed"
    },
    "tags": []
   },
   "source": [
    "<font color='blue'>**Read weather.csv into df**</font>"
   ]
  },
  {
   "cell_type": "code",
   "execution_count": 69,
   "id": "blocked-pursuit",
   "metadata": {
    "execution": {
     "iopub.execute_input": "2021-05-15T14:39:21.991204Z",
     "iopub.status.busy": "2021-05-15T14:39:21.990215Z",
     "iopub.status.idle": "2021-05-15T14:39:21.993448Z",
     "shell.execute_reply": "2021-05-15T14:39:21.992782Z"
    },
    "papermill": {
     "duration": 0.112585,
     "end_time": "2021-05-15T14:39:21.993597",
     "exception": false,
     "start_time": "2021-05-15T14:39:21.881012",
     "status": "completed"
    },
    "tags": []
   },
   "outputs": [],
   "source": [
    "#data = pd.read_csv(\"weather.csv\")\n",
    "#data"
   ]
  },
  {
   "cell_type": "markdown",
   "id": "concrete-mercury",
   "metadata": {
    "papermill": {
     "duration": 0.102789,
     "end_time": "2021-05-15T14:39:22.202664",
     "exception": false,
     "start_time": "2021-05-15T14:39:22.099875",
     "status": "completed"
    },
    "tags": []
   },
   "source": [
    "<font color='blue'>**Create Pivot with city as _index_ and date as _column_**</font>"
   ]
  },
  {
   "cell_type": "code",
   "execution_count": 70,
   "id": "victorian-underground",
   "metadata": {
    "execution": {
     "iopub.execute_input": "2021-05-15T14:39:22.412980Z",
     "iopub.status.busy": "2021-05-15T14:39:22.412333Z",
     "iopub.status.idle": "2021-05-15T14:39:22.415490Z",
     "shell.execute_reply": "2021-05-15T14:39:22.414989Z"
    },
    "papermill": {
     "duration": 0.110642,
     "end_time": "2021-05-15T14:39:22.415651",
     "exception": false,
     "start_time": "2021-05-15T14:39:22.305009",
     "status": "completed"
    },
    "tags": []
   },
   "outputs": [],
   "source": [
    "#data.pivot(index='_____',columns='_____')"
   ]
  },
  {
   "cell_type": "markdown",
   "id": "identical-hobby",
   "metadata": {
    "papermill": {
     "duration": 0.101604,
     "end_time": "2021-05-15T14:39:22.619878",
     "exception": false,
     "start_time": "2021-05-15T14:39:22.518274",
     "status": "completed"
    },
    "tags": []
   },
   "source": [
    "<font color='blue'>**Create Pivot with city as _index_ and date as _column_ and temperature as _values_**</font>"
   ]
  },
  {
   "cell_type": "code",
   "execution_count": 71,
   "id": "employed-ministry",
   "metadata": {
    "execution": {
     "iopub.execute_input": "2021-05-15T14:39:22.830405Z",
     "iopub.status.busy": "2021-05-15T14:39:22.829765Z",
     "iopub.status.idle": "2021-05-15T14:39:22.832697Z",
     "shell.execute_reply": "2021-05-15T14:39:22.832200Z"
    },
    "papermill": {
     "duration": 0.110386,
     "end_time": "2021-05-15T14:39:22.832846",
     "exception": false,
     "start_time": "2021-05-15T14:39:22.722460",
     "status": "completed"
    },
    "tags": []
   },
   "outputs": [],
   "source": [
    "#data.pivot(index='_____',columns='_____',values=\"_____\")"
   ]
  },
  {
   "cell_type": "markdown",
   "id": "existing-sharing",
   "metadata": {
    "papermill": {
     "duration": 0.104983,
     "end_time": "2021-05-15T14:39:23.041756",
     "exception": false,
     "start_time": "2021-05-15T14:39:22.936773",
     "status": "completed"
    },
    "tags": []
   },
   "source": [
    "<font color='blue'>**Create Pivot with city as _index_ and date as _column_ and humidity as _values_**</font>"
   ]
  },
  {
   "cell_type": "code",
   "execution_count": 72,
   "id": "liable-cheese",
   "metadata": {
    "execution": {
     "iopub.execute_input": "2021-05-15T14:39:23.253158Z",
     "iopub.status.busy": "2021-05-15T14:39:23.252457Z",
     "iopub.status.idle": "2021-05-15T14:39:23.254312Z",
     "shell.execute_reply": "2021-05-15T14:39:23.254750Z"
    },
    "papermill": {
     "duration": 0.109129,
     "end_time": "2021-05-15T14:39:23.254926",
     "exception": false,
     "start_time": "2021-05-15T14:39:23.145797",
     "status": "completed"
    },
    "tags": []
   },
   "outputs": [],
   "source": [
    "#data.pivot(index='_____',columns='_____',values=\"_____\")"
   ]
  },
  {
   "cell_type": "markdown",
   "id": "patent-fruit",
   "metadata": {
    "papermill": {
     "duration": 0.105152,
     "end_time": "2021-05-15T14:39:23.469701",
     "exception": false,
     "start_time": "2021-05-15T14:39:23.364549",
     "status": "completed"
    },
    "tags": []
   },
   "source": [
    "<font color='blue'>**Create Pivot with date as _index_ and city as _column_**</font>"
   ]
  },
  {
   "cell_type": "code",
   "execution_count": 73,
   "id": "green-encoding",
   "metadata": {
    "execution": {
     "iopub.execute_input": "2021-05-15T14:39:23.685874Z",
     "iopub.status.busy": "2021-05-15T14:39:23.685220Z",
     "iopub.status.idle": "2021-05-15T14:39:23.688104Z",
     "shell.execute_reply": "2021-05-15T14:39:23.688664Z"
    },
    "papermill": {
     "duration": 0.113981,
     "end_time": "2021-05-15T14:39:23.688841",
     "exception": false,
     "start_time": "2021-05-15T14:39:23.574860",
     "status": "completed"
    },
    "tags": []
   },
   "outputs": [],
   "source": [
    "#data.pivot(index='_____',columns='_____')"
   ]
  },
  {
   "cell_type": "markdown",
   "id": "changed-vacuum",
   "metadata": {
    "papermill": {
     "duration": 0.102289,
     "end_time": "2021-05-15T14:39:23.894618",
     "exception": false,
     "start_time": "2021-05-15T14:39:23.792329",
     "status": "completed"
    },
    "tags": []
   },
   "source": [
    "<font color='blue'>**Create Pivot with humidity as _index_ and city as _column_**</font>"
   ]
  },
  {
   "cell_type": "code",
   "execution_count": 74,
   "id": "tested-times",
   "metadata": {
    "execution": {
     "iopub.execute_input": "2021-05-15T14:39:24.107467Z",
     "iopub.status.busy": "2021-05-15T14:39:24.106857Z",
     "iopub.status.idle": "2021-05-15T14:39:24.110148Z",
     "shell.execute_reply": "2021-05-15T14:39:24.110719Z"
    },
    "papermill": {
     "duration": 0.111957,
     "end_time": "2021-05-15T14:39:24.110887",
     "exception": false,
     "start_time": "2021-05-15T14:39:23.998930",
     "status": "completed"
    },
    "tags": []
   },
   "outputs": [],
   "source": [
    "#data.pivot(index='_____',columns='_____')"
   ]
  },
  {
   "cell_type": "markdown",
   "id": "geological-attendance",
   "metadata": {
    "papermill": {
     "duration": 0.106141,
     "end_time": "2021-05-15T14:39:24.321359",
     "exception": false,
     "start_time": "2021-05-15T14:39:24.215218",
     "status": "completed"
    },
    "tags": []
   },
   "source": [
    "<font color='blue'>**Create Pivot with temperature as _index_ and city as _column_**</font>"
   ]
  },
  {
   "cell_type": "code",
   "execution_count": 75,
   "id": "computational-decision",
   "metadata": {
    "execution": {
     "iopub.execute_input": "2021-05-15T14:39:24.535128Z",
     "iopub.status.busy": "2021-05-15T14:39:24.534496Z",
     "iopub.status.idle": "2021-05-15T14:39:24.537825Z",
     "shell.execute_reply": "2021-05-15T14:39:24.538359Z"
    },
    "papermill": {
     "duration": 0.112948,
     "end_time": "2021-05-15T14:39:24.538534",
     "exception": false,
     "start_time": "2021-05-15T14:39:24.425586",
     "status": "completed"
    },
    "tags": []
   },
   "outputs": [],
   "source": [
    "#data.pivot(index='_____',columns='_____')"
   ]
  },
  {
   "cell_type": "code",
   "execution_count": 76,
   "id": "stretch-brazilian",
   "metadata": {
    "execution": {
     "iopub.execute_input": "2021-05-15T14:39:24.751184Z",
     "iopub.status.busy": "2021-05-15T14:39:24.750493Z",
     "iopub.status.idle": "2021-05-15T14:39:24.754435Z",
     "shell.execute_reply": "2021-05-15T14:39:24.753882Z"
    },
    "papermill": {
     "duration": 0.111214,
     "end_time": "2021-05-15T14:39:24.754583",
     "exception": false,
     "start_time": "2021-05-15T14:39:24.643369",
     "status": "completed"
    },
    "tags": []
   },
   "outputs": [],
   "source": [
    "#data.pivot_table(index=\"city\",columns=\"date\", margins=True,aggfunc=np.sum)"
   ]
  },
  {
   "cell_type": "code",
   "execution_count": 77,
   "id": "bound-honolulu",
   "metadata": {
    "execution": {
     "iopub.execute_input": "2021-05-15T14:39:24.969084Z",
     "iopub.status.busy": "2021-05-15T14:39:24.968421Z",
     "iopub.status.idle": "2021-05-15T14:39:24.970269Z",
     "shell.execute_reply": "2021-05-15T14:39:24.970753Z"
    },
    "papermill": {
     "duration": 0.111552,
     "end_time": "2021-05-15T14:39:24.970930",
     "exception": false,
     "start_time": "2021-05-15T14:39:24.859378",
     "status": "completed"
    },
    "tags": []
   },
   "outputs": [],
   "source": [
    "#import pandas as pd\n",
    "#import warnings\n",
    "#warnings.filterwarnings(\"ignore\")"
   ]
  },
  {
   "cell_type": "code",
   "execution_count": 78,
   "id": "suitable-enough",
   "metadata": {
    "execution": {
     "iopub.execute_input": "2021-05-15T14:39:25.190285Z",
     "iopub.status.busy": "2021-05-15T14:39:25.189645Z",
     "iopub.status.idle": "2021-05-15T14:39:25.260897Z",
     "shell.execute_reply": "2021-05-15T14:39:25.261429Z"
    },
    "papermill": {
     "duration": 0.182158,
     "end_time": "2021-05-15T14:39:25.261619",
     "exception": false,
     "start_time": "2021-05-15T14:39:25.079461",
     "status": "completed"
    },
    "tags": []
   },
   "outputs": [
    {
     "ename": "NameError",
     "evalue": "name 'pd' is not defined",
     "output_type": "error",
     "traceback": [
      "\u001b[0;31m---------------------------------------------------------------------------\u001b[0m",
      "\u001b[0;31mNameError\u001b[0m                                 Traceback (most recent call last)",
      "\u001b[0;32m<ipython-input-78-8389c1f7ed97>\u001b[0m in \u001b[0;36m<module>\u001b[0;34m\u001b[0m\n\u001b[0;32m----> 1\u001b[0;31m \u001b[0mdata\u001b[0m \u001b[0;34m=\u001b[0m \u001b[0mpd\u001b[0m\u001b[0;34m.\u001b[0m\u001b[0mread_csv\u001b[0m\u001b[0;34m(\u001b[0m\u001b[0;34m'../input/new-york-weather/nyc_weather_data.csv'\u001b[0m\u001b[0;34m)\u001b[0m\u001b[0;34m\u001b[0m\u001b[0;34m\u001b[0m\u001b[0m\n\u001b[0m",
      "\u001b[0;31mNameError\u001b[0m: name 'pd' is not defined"
     ]
    }
   ],
   "source": [
    "data = pd.read_csv('../input/new-york-weather/nyc_weather_data.csv')"
   ]
  },
  {
   "cell_type": "markdown",
   "id": "special-force",
   "metadata": {
    "papermill": {
     "duration": 0.106998,
     "end_time": "2021-05-15T14:39:25.472725",
     "exception": false,
     "start_time": "2021-05-15T14:39:25.365727",
     "status": "completed"
    },
    "tags": []
   },
   "source": [
    "<font color='blue'>**Lambda function**</font>"
   ]
  },
  {
   "cell_type": "code",
   "execution_count": 79,
   "id": "royal-pressure",
   "metadata": {
    "execution": {
     "iopub.execute_input": "2021-05-15T14:39:25.687791Z",
     "iopub.status.busy": "2021-05-15T14:39:25.687085Z",
     "iopub.status.idle": "2021-05-15T14:39:25.691333Z",
     "shell.execute_reply": "2021-05-15T14:39:25.690774Z"
    },
    "papermill": {
     "duration": 0.112326,
     "end_time": "2021-05-15T14:39:25.691471",
     "exception": false,
     "start_time": "2021-05-15T14:39:25.579145",
     "status": "completed"
    },
    "tags": []
   },
   "outputs": [],
   "source": [
    "#data.Temperature.head()"
   ]
  },
  {
   "cell_type": "code",
   "execution_count": 80,
   "id": "controversial-family",
   "metadata": {
    "execution": {
     "iopub.execute_input": "2021-05-15T14:39:25.908825Z",
     "iopub.status.busy": "2021-05-15T14:39:25.907796Z",
     "iopub.status.idle": "2021-05-15T14:39:25.911649Z",
     "shell.execute_reply": "2021-05-15T14:39:25.912247Z"
    },
    "papermill": {
     "duration": 0.114124,
     "end_time": "2021-05-15T14:39:25.912423",
     "exception": false,
     "start_time": "2021-05-15T14:39:25.798299",
     "status": "completed"
    },
    "tags": []
   },
   "outputs": [],
   "source": [
    "#data.Temperature.apply(lambda x : x/2).head()"
   ]
  },
  {
   "cell_type": "markdown",
   "id": "unavailable-palestine",
   "metadata": {
    "papermill": {
     "duration": 0.111729,
     "end_time": "2021-05-15T14:39:26.130864",
     "exception": false,
     "start_time": "2021-05-15T14:39:26.019135",
     "status": "completed"
    },
    "tags": []
   },
   "source": [
    "<font color='blue'>**Primary and Secondary Indexes**</font>"
   ]
  },
  {
   "cell_type": "code",
   "execution_count": 81,
   "id": "atomic-google",
   "metadata": {
    "execution": {
     "iopub.execute_input": "2021-05-15T14:39:26.353032Z",
     "iopub.status.busy": "2021-05-15T14:39:26.351968Z",
     "iopub.status.idle": "2021-05-15T14:39:26.355705Z",
     "shell.execute_reply": "2021-05-15T14:39:26.356291Z"
    },
    "papermill": {
     "duration": 0.110799,
     "end_time": "2021-05-15T14:39:26.356460",
     "exception": false,
     "start_time": "2021-05-15T14:39:26.245661",
     "status": "completed"
    },
    "tags": []
   },
   "outputs": [],
   "source": [
    "#data.index"
   ]
  },
  {
   "cell_type": "code",
   "execution_count": 82,
   "id": "operational-vienna",
   "metadata": {
    "execution": {
     "iopub.execute_input": "2021-05-15T14:39:26.573343Z",
     "iopub.status.busy": "2021-05-15T14:39:26.572409Z",
     "iopub.status.idle": "2021-05-15T14:39:26.576390Z",
     "shell.execute_reply": "2021-05-15T14:39:26.575893Z"
    },
    "papermill": {
     "duration": 0.111624,
     "end_time": "2021-05-15T14:39:26.576532",
     "exception": false,
     "start_time": "2021-05-15T14:39:26.464908",
     "status": "completed"
    },
    "tags": []
   },
   "outputs": [],
   "source": [
    "#data1 = data.set_index([\"Events\", \"VisibilityMiles\"])\n",
    "#data1"
   ]
  },
  {
   "cell_type": "markdown",
   "id": "driven-gateway",
   "metadata": {
    "papermill": {
     "duration": 0.109567,
     "end_time": "2021-05-15T14:39:26.790853",
     "exception": false,
     "start_time": "2021-05-15T14:39:26.681286",
     "status": "completed"
    },
    "tags": []
   },
   "source": [
    "<font color='blue'>**Melting DataFrames**</font>"
   ]
  },
  {
   "cell_type": "code",
   "execution_count": 83,
   "id": "involved-painting",
   "metadata": {
    "execution": {
     "iopub.execute_input": "2021-05-15T14:39:27.008304Z",
     "iopub.status.busy": "2021-05-15T14:39:27.007542Z",
     "iopub.status.idle": "2021-05-15T14:39:27.011046Z",
     "shell.execute_reply": "2021-05-15T14:39:27.010476Z"
    },
    "papermill": {
     "duration": 0.113546,
     "end_time": "2021-05-15T14:39:27.011203",
     "exception": false,
     "start_time": "2021-05-15T14:39:26.897657",
     "status": "completed"
    },
    "tags": []
   },
   "outputs": [],
   "source": [
    "#pd.melt(data, id_vars=\"Temperature\", value_vars=[\"DewPoint\", \"Humidity\"]).head()"
   ]
  },
  {
   "cell_type": "code",
   "execution_count": 84,
   "id": "lonely-hybrid",
   "metadata": {
    "execution": {
     "iopub.execute_input": "2021-05-15T14:39:27.228851Z",
     "iopub.status.busy": "2021-05-15T14:39:27.228169Z",
     "iopub.status.idle": "2021-05-15T14:39:27.231356Z",
     "shell.execute_reply": "2021-05-15T14:39:27.231875Z"
    },
    "papermill": {
     "duration": 0.112625,
     "end_time": "2021-05-15T14:39:27.232054",
     "exception": false,
     "start_time": "2021-05-15T14:39:27.119429",
     "status": "completed"
    },
    "tags": []
   },
   "outputs": [],
   "source": [
    "#data.Temperature.head()"
   ]
  },
  {
   "cell_type": "code",
   "execution_count": 85,
   "id": "champion-mountain",
   "metadata": {
    "execution": {
     "iopub.execute_input": "2021-05-15T14:39:27.449381Z",
     "iopub.status.busy": "2021-05-15T14:39:27.448698Z",
     "iopub.status.idle": "2021-05-15T14:39:27.451776Z",
     "shell.execute_reply": "2021-05-15T14:39:27.452258Z"
    },
    "papermill": {
     "duration": 0.112366,
     "end_time": "2021-05-15T14:39:27.452436",
     "exception": false,
     "start_time": "2021-05-15T14:39:27.340070",
     "status": "completed"
    },
    "tags": []
   },
   "outputs": [],
   "source": [
    "#data.DewPoint.head()"
   ]
  },
  {
   "cell_type": "code",
   "execution_count": 86,
   "id": "alpine-submission",
   "metadata": {
    "execution": {
     "iopub.execute_input": "2021-05-15T14:39:27.666987Z",
     "iopub.status.busy": "2021-05-15T14:39:27.666296Z",
     "iopub.status.idle": "2021-05-15T14:39:27.669427Z",
     "shell.execute_reply": "2021-05-15T14:39:27.669955Z"
    },
    "papermill": {
     "duration": 0.11179,
     "end_time": "2021-05-15T14:39:27.670135",
     "exception": false,
     "start_time": "2021-05-15T14:39:27.558345",
     "status": "completed"
    },
    "tags": []
   },
   "outputs": [],
   "source": [
    "#data.Humidity.head()"
   ]
  },
  {
   "cell_type": "markdown",
   "id": "charitable-realtor",
   "metadata": {
    "papermill": {
     "duration": 0.105068,
     "end_time": "2021-05-15T14:39:27.880940",
     "exception": false,
     "start_time": "2021-05-15T14:39:27.775872",
     "status": "completed"
    },
    "tags": []
   },
   "source": [
    "<font color='blue'>**Groupby function**</font>"
   ]
  },
  {
   "cell_type": "code",
   "execution_count": 87,
   "id": "silver-going",
   "metadata": {
    "execution": {
     "iopub.execute_input": "2021-05-15T14:39:28.102702Z",
     "iopub.status.busy": "2021-05-15T14:39:28.102017Z",
     "iopub.status.idle": "2021-05-15T14:39:28.103985Z",
     "shell.execute_reply": "2021-05-15T14:39:28.104509Z"
    },
    "papermill": {
     "duration": 0.11667,
     "end_time": "2021-05-15T14:39:28.104704",
     "exception": false,
     "start_time": "2021-05-15T14:39:27.988034",
     "status": "completed"
    },
    "tags": []
   },
   "outputs": [],
   "source": [
    "#data.groupby('Events').count()"
   ]
  },
  {
   "cell_type": "code",
   "execution_count": 88,
   "id": "protected-vacuum",
   "metadata": {
    "execution": {
     "iopub.execute_input": "2021-05-15T14:39:28.326606Z",
     "iopub.status.busy": "2021-05-15T14:39:28.325744Z",
     "iopub.status.idle": "2021-05-15T14:39:28.329157Z",
     "shell.execute_reply": "2021-05-15T14:39:28.328456Z"
    },
    "papermill": {
     "duration": 0.118126,
     "end_time": "2021-05-15T14:39:28.329306",
     "exception": false,
     "start_time": "2021-05-15T14:39:28.211180",
     "status": "completed"
    },
    "tags": []
   },
   "outputs": [],
   "source": [
    "#data.groupby('Events').sum()"
   ]
  },
  {
   "cell_type": "code",
   "execution_count": 89,
   "id": "violent-comedy",
   "metadata": {
    "execution": {
     "iopub.execute_input": "2021-05-15T14:39:28.585096Z",
     "iopub.status.busy": "2021-05-15T14:39:28.584405Z",
     "iopub.status.idle": "2021-05-15T14:39:28.586968Z",
     "shell.execute_reply": "2021-05-15T14:39:28.587491Z"
    },
    "papermill": {
     "duration": 0.117858,
     "end_time": "2021-05-15T14:39:28.587687",
     "exception": false,
     "start_time": "2021-05-15T14:39:28.469829",
     "status": "completed"
    },
    "tags": []
   },
   "outputs": [],
   "source": [
    "#data.groupby('Events').sum()[['Temperature', 'DewPoint']]"
   ]
  },
  {
   "cell_type": "code",
   "execution_count": 90,
   "id": "presidential-contrast",
   "metadata": {
    "execution": {
     "iopub.execute_input": "2021-05-15T14:39:28.804012Z",
     "iopub.status.busy": "2021-05-15T14:39:28.803338Z",
     "iopub.status.idle": "2021-05-15T14:39:28.806470Z",
     "shell.execute_reply": "2021-05-15T14:39:28.807015Z"
    },
    "papermill": {
     "duration": 0.113091,
     "end_time": "2021-05-15T14:39:28.807180",
     "exception": false,
     "start_time": "2021-05-15T14:39:28.694089",
     "status": "completed"
    },
    "tags": []
   },
   "outputs": [],
   "source": [
    "#data.groupby('Events').sum()[['Temperature', 'DewPoint']].max()"
   ]
  },
  {
   "cell_type": "markdown",
   "id": "royal-draft",
   "metadata": {
    "papermill": {
     "duration": 0.1074,
     "end_time": "2021-05-15T14:39:29.020481",
     "exception": false,
     "start_time": "2021-05-15T14:39:28.913081",
     "status": "completed"
    },
    "tags": []
   },
   "source": [
    "<h1 style=\"color:blue\" align=\"center\">////// Crosstab Tutorial ////// </h1>"
   ]
  },
  {
   "cell_type": "code",
   "execution_count": 91,
   "id": "neither-approval",
   "metadata": {
    "execution": {
     "iopub.execute_input": "2021-05-15T14:39:29.238106Z",
     "iopub.status.busy": "2021-05-15T14:39:29.237474Z",
     "iopub.status.idle": "2021-05-15T14:39:29.240520Z",
     "shell.execute_reply": "2021-05-15T14:39:29.241070Z"
    },
    "papermill": {
     "duration": 0.112241,
     "end_time": "2021-05-15T14:39:29.241280",
     "exception": false,
     "start_time": "2021-05-15T14:39:29.129039",
     "status": "completed"
    },
    "tags": []
   },
   "outputs": [],
   "source": [
    "#pd.crosstab(data.Events, data.Temperature)"
   ]
  },
  {
   "cell_type": "code",
   "execution_count": 92,
   "id": "popular-fundamentals",
   "metadata": {
    "execution": {
     "iopub.execute_input": "2021-05-15T14:39:29.457384Z",
     "iopub.status.busy": "2021-05-15T14:39:29.456726Z",
     "iopub.status.idle": "2021-05-15T14:39:29.460705Z",
     "shell.execute_reply": "2021-05-15T14:39:29.460081Z"
    },
    "papermill": {
     "duration": 0.113659,
     "end_time": "2021-05-15T14:39:29.460844",
     "exception": false,
     "start_time": "2021-05-15T14:39:29.347185",
     "status": "completed"
    },
    "tags": []
   },
   "outputs": [],
   "source": [
    "#pd.crosstab(data.CloudCover, data.Events)"
   ]
  },
  {
   "cell_type": "code",
   "execution_count": 93,
   "id": "still-rocket",
   "metadata": {
    "execution": {
     "iopub.execute_input": "2021-05-15T14:39:29.677883Z",
     "iopub.status.busy": "2021-05-15T14:39:29.677192Z",
     "iopub.status.idle": "2021-05-15T14:39:29.680230Z",
     "shell.execute_reply": "2021-05-15T14:39:29.680840Z"
    },
    "papermill": {
     "duration": 0.111842,
     "end_time": "2021-05-15T14:39:29.681007",
     "exception": false,
     "start_time": "2021-05-15T14:39:29.569165",
     "status": "completed"
    },
    "scrolled": true,
    "tags": []
   },
   "outputs": [],
   "source": [
    "#pd.crosstab(data.Events, data.Temperature, margins=True)"
   ]
  },
  {
   "cell_type": "code",
   "execution_count": 94,
   "id": "changing-acoustic",
   "metadata": {
    "execution": {
     "iopub.execute_input": "2021-05-15T14:39:29.895101Z",
     "iopub.status.busy": "2021-05-15T14:39:29.894464Z",
     "iopub.status.idle": "2021-05-15T14:39:29.897564Z",
     "shell.execute_reply": "2021-05-15T14:39:29.898068Z"
    },
    "papermill": {
     "duration": 0.111711,
     "end_time": "2021-05-15T14:39:29.898246",
     "exception": false,
     "start_time": "2021-05-15T14:39:29.786535",
     "status": "completed"
    },
    "tags": []
   },
   "outputs": [],
   "source": [
    "#pd.crosstab(data.Events, [data.Temperature,data.VisibilityMiles], margins=True)"
   ]
  },
  {
   "cell_type": "code",
   "execution_count": 95,
   "id": "informational-knowing",
   "metadata": {
    "execution": {
     "iopub.execute_input": "2021-05-15T14:39:30.116679Z",
     "iopub.status.busy": "2021-05-15T14:39:30.116037Z",
     "iopub.status.idle": "2021-05-15T14:39:30.119231Z",
     "shell.execute_reply": "2021-05-15T14:39:30.119782Z"
    },
    "papermill": {
     "duration": 0.114723,
     "end_time": "2021-05-15T14:39:30.119946",
     "exception": false,
     "start_time": "2021-05-15T14:39:30.005223",
     "status": "completed"
    },
    "tags": []
   },
   "outputs": [],
   "source": [
    "#pd.crosstab(data.Events, data.Temperature, normalize='index')"
   ]
  },
  {
   "cell_type": "code",
   "execution_count": 96,
   "id": "modern-collaboration",
   "metadata": {
    "execution": {
     "iopub.execute_input": "2021-05-15T14:39:30.334130Z",
     "iopub.status.busy": "2021-05-15T14:39:30.333507Z",
     "iopub.status.idle": "2021-05-15T14:39:30.336523Z",
     "shell.execute_reply": "2021-05-15T14:39:30.337084Z"
    },
    "papermill": {
     "duration": 0.111448,
     "end_time": "2021-05-15T14:39:30.337241",
     "exception": false,
     "start_time": "2021-05-15T14:39:30.225793",
     "status": "completed"
    },
    "tags": []
   },
   "outputs": [],
   "source": [
    "#pd.crosstab(data.Events, [data.Temperature,data.VisibilityMiles], margins=True)"
   ]
  }
 ],
 "metadata": {
  "kernelspec": {
   "display_name": "Python 3",
   "language": "python",
   "name": "python3"
  },
  "language_info": {
   "codemirror_mode": {
    "name": "ipython",
    "version": 3
   },
   "file_extension": ".py",
   "mimetype": "text/x-python",
   "name": "python",
   "nbconvert_exporter": "python",
   "pygments_lexer": "ipython3",
   "version": "3.7.10"
  },
  "papermill": {
   "default_parameters": {},
   "duration": 46.199967,
   "end_time": "2021-05-15T14:39:32.032153",
   "environment_variables": {},
   "exception": null,
   "input_path": "__notebook__.ipynb",
   "output_path": "__notebook__.ipynb",
   "parameters": {},
   "start_time": "2021-05-15T14:38:45.832186",
   "version": "2.3.3"
  }
 },
 "nbformat": 4,
 "nbformat_minor": 5
}
